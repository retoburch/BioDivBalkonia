{
 "cells": [
  {
   "cell_type": "markdown",
   "id": "269bb41b",
   "metadata": {},
   "source": [
    "# 1. Datenimport und -bereinigung\n",
    "---\n",
    "## 1.1 Datenimport\n",
    "---\n",
    "\n",
    "Hier werden aus einem csv file Pflanzendaten (Insektenfreundliche, Standortansprüche, Blütemonate etc.) zur Berechnung des Bienen- und des Blühzeitscores in ein pandas Dataframe gelesen."
   ]
  },
  {
   "cell_type": "markdown",
   "id": "95238d00",
   "metadata": {},
   "source": [
    "### 1.1.1 Importieren der benötigten Libraries:\n",
    "- _pandas_\n",
    "- _pandas profiling_"
   ]
  },
  {
   "cell_type": "code",
   "execution_count": 1,
   "id": "8cb8e530",
   "metadata": {},
   "outputs": [],
   "source": [
    "import pandas as pd\n",
    "import pandas_profiling as pp"
   ]
  },
  {
   "cell_type": "markdown",
   "id": "4ba94a6d",
   "metadata": {},
   "source": [
    "### 1.1.2 Einlesen der csv-Datei \"DatenBalkonien\" aus dem Importordner und erste Sichtung der Daten"
   ]
  },
  {
   "cell_type": "code",
   "execution_count": 4,
   "id": "26da0587",
   "metadata": {},
   "outputs": [
    {
     "ename": "FileNotFoundError",
     "evalue": "[Errno 2] No such file or directory: './Import/DatenBalkonien.csv'",
     "output_type": "error",
     "traceback": [
      "\u001b[0;31m---------------------------------------------------------------------------\u001b[0m",
      "\u001b[0;31mFileNotFoundError\u001b[0m                         Traceback (most recent call last)",
      "\u001b[0;32m/var/folders/mq/545q4wvs7qv1ykzg9rcc02380000gn/T/ipykernel_37782/671821170.py\u001b[0m in \u001b[0;36m<module>\u001b[0;34m\u001b[0m\n\u001b[1;32m      1\u001b[0m \u001b[0;31m#Import der Daten als Dataframe\u001b[0m\u001b[0;34m\u001b[0m\u001b[0;34m\u001b[0m\u001b[0m\n\u001b[0;32m----> 2\u001b[0;31m \u001b[0mplantfacts_df\u001b[0m \u001b[0;34m=\u001b[0m \u001b[0mpd\u001b[0m\u001b[0;34m.\u001b[0m\u001b[0mread_csv\u001b[0m\u001b[0;34m(\u001b[0m\u001b[0;34m'./Import/DatenBalkonien.csv'\u001b[0m\u001b[0;34m,\u001b[0m\u001b[0msep\u001b[0m\u001b[0;34m=\u001b[0m\u001b[0;34m\",\"\u001b[0m\u001b[0;34m)\u001b[0m\u001b[0;34m\u001b[0m\u001b[0;34m\u001b[0m\u001b[0m\n\u001b[0m",
      "\u001b[0;32m~/opt/anaconda3/lib/python3.9/site-packages/pandas/util/_decorators.py\u001b[0m in \u001b[0;36mwrapper\u001b[0;34m(*args, **kwargs)\u001b[0m\n\u001b[1;32m    309\u001b[0m                     \u001b[0mstacklevel\u001b[0m\u001b[0;34m=\u001b[0m\u001b[0mstacklevel\u001b[0m\u001b[0;34m,\u001b[0m\u001b[0;34m\u001b[0m\u001b[0;34m\u001b[0m\u001b[0m\n\u001b[1;32m    310\u001b[0m                 )\n\u001b[0;32m--> 311\u001b[0;31m             \u001b[0;32mreturn\u001b[0m \u001b[0mfunc\u001b[0m\u001b[0;34m(\u001b[0m\u001b[0;34m*\u001b[0m\u001b[0margs\u001b[0m\u001b[0;34m,\u001b[0m \u001b[0;34m**\u001b[0m\u001b[0mkwargs\u001b[0m\u001b[0;34m)\u001b[0m\u001b[0;34m\u001b[0m\u001b[0;34m\u001b[0m\u001b[0m\n\u001b[0m\u001b[1;32m    312\u001b[0m \u001b[0;34m\u001b[0m\u001b[0m\n\u001b[1;32m    313\u001b[0m         \u001b[0;32mreturn\u001b[0m \u001b[0mwrapper\u001b[0m\u001b[0;34m\u001b[0m\u001b[0;34m\u001b[0m\u001b[0m\n",
      "\u001b[0;32m~/opt/anaconda3/lib/python3.9/site-packages/pandas/io/parsers/readers.py\u001b[0m in \u001b[0;36mread_csv\u001b[0;34m(filepath_or_buffer, sep, delimiter, header, names, index_col, usecols, squeeze, prefix, mangle_dupe_cols, dtype, engine, converters, true_values, false_values, skipinitialspace, skiprows, skipfooter, nrows, na_values, keep_default_na, na_filter, verbose, skip_blank_lines, parse_dates, infer_datetime_format, keep_date_col, date_parser, dayfirst, cache_dates, iterator, chunksize, compression, thousands, decimal, lineterminator, quotechar, quoting, doublequote, escapechar, comment, encoding, encoding_errors, dialect, error_bad_lines, warn_bad_lines, on_bad_lines, delim_whitespace, low_memory, memory_map, float_precision, storage_options)\u001b[0m\n\u001b[1;32m    584\u001b[0m     \u001b[0mkwds\u001b[0m\u001b[0;34m.\u001b[0m\u001b[0mupdate\u001b[0m\u001b[0;34m(\u001b[0m\u001b[0mkwds_defaults\u001b[0m\u001b[0;34m)\u001b[0m\u001b[0;34m\u001b[0m\u001b[0;34m\u001b[0m\u001b[0m\n\u001b[1;32m    585\u001b[0m \u001b[0;34m\u001b[0m\u001b[0m\n\u001b[0;32m--> 586\u001b[0;31m     \u001b[0;32mreturn\u001b[0m \u001b[0m_read\u001b[0m\u001b[0;34m(\u001b[0m\u001b[0mfilepath_or_buffer\u001b[0m\u001b[0;34m,\u001b[0m \u001b[0mkwds\u001b[0m\u001b[0;34m)\u001b[0m\u001b[0;34m\u001b[0m\u001b[0;34m\u001b[0m\u001b[0m\n\u001b[0m\u001b[1;32m    587\u001b[0m \u001b[0;34m\u001b[0m\u001b[0m\n\u001b[1;32m    588\u001b[0m \u001b[0;34m\u001b[0m\u001b[0m\n",
      "\u001b[0;32m~/opt/anaconda3/lib/python3.9/site-packages/pandas/io/parsers/readers.py\u001b[0m in \u001b[0;36m_read\u001b[0;34m(filepath_or_buffer, kwds)\u001b[0m\n\u001b[1;32m    480\u001b[0m \u001b[0;34m\u001b[0m\u001b[0m\n\u001b[1;32m    481\u001b[0m     \u001b[0;31m# Create the parser.\u001b[0m\u001b[0;34m\u001b[0m\u001b[0;34m\u001b[0m\u001b[0m\n\u001b[0;32m--> 482\u001b[0;31m     \u001b[0mparser\u001b[0m \u001b[0;34m=\u001b[0m \u001b[0mTextFileReader\u001b[0m\u001b[0;34m(\u001b[0m\u001b[0mfilepath_or_buffer\u001b[0m\u001b[0;34m,\u001b[0m \u001b[0;34m**\u001b[0m\u001b[0mkwds\u001b[0m\u001b[0;34m)\u001b[0m\u001b[0;34m\u001b[0m\u001b[0;34m\u001b[0m\u001b[0m\n\u001b[0m\u001b[1;32m    483\u001b[0m \u001b[0;34m\u001b[0m\u001b[0m\n\u001b[1;32m    484\u001b[0m     \u001b[0;32mif\u001b[0m \u001b[0mchunksize\u001b[0m \u001b[0;32mor\u001b[0m \u001b[0miterator\u001b[0m\u001b[0;34m:\u001b[0m\u001b[0;34m\u001b[0m\u001b[0;34m\u001b[0m\u001b[0m\n",
      "\u001b[0;32m~/opt/anaconda3/lib/python3.9/site-packages/pandas/io/parsers/readers.py\u001b[0m in \u001b[0;36m__init__\u001b[0;34m(self, f, engine, **kwds)\u001b[0m\n\u001b[1;32m    809\u001b[0m             \u001b[0mself\u001b[0m\u001b[0;34m.\u001b[0m\u001b[0moptions\u001b[0m\u001b[0;34m[\u001b[0m\u001b[0;34m\"has_index_names\"\u001b[0m\u001b[0;34m]\u001b[0m \u001b[0;34m=\u001b[0m \u001b[0mkwds\u001b[0m\u001b[0;34m[\u001b[0m\u001b[0;34m\"has_index_names\"\u001b[0m\u001b[0;34m]\u001b[0m\u001b[0;34m\u001b[0m\u001b[0;34m\u001b[0m\u001b[0m\n\u001b[1;32m    810\u001b[0m \u001b[0;34m\u001b[0m\u001b[0m\n\u001b[0;32m--> 811\u001b[0;31m         \u001b[0mself\u001b[0m\u001b[0;34m.\u001b[0m\u001b[0m_engine\u001b[0m \u001b[0;34m=\u001b[0m \u001b[0mself\u001b[0m\u001b[0;34m.\u001b[0m\u001b[0m_make_engine\u001b[0m\u001b[0;34m(\u001b[0m\u001b[0mself\u001b[0m\u001b[0;34m.\u001b[0m\u001b[0mengine\u001b[0m\u001b[0;34m)\u001b[0m\u001b[0;34m\u001b[0m\u001b[0;34m\u001b[0m\u001b[0m\n\u001b[0m\u001b[1;32m    812\u001b[0m \u001b[0;34m\u001b[0m\u001b[0m\n\u001b[1;32m    813\u001b[0m     \u001b[0;32mdef\u001b[0m \u001b[0mclose\u001b[0m\u001b[0;34m(\u001b[0m\u001b[0mself\u001b[0m\u001b[0;34m)\u001b[0m\u001b[0;34m:\u001b[0m\u001b[0;34m\u001b[0m\u001b[0;34m\u001b[0m\u001b[0m\n",
      "\u001b[0;32m~/opt/anaconda3/lib/python3.9/site-packages/pandas/io/parsers/readers.py\u001b[0m in \u001b[0;36m_make_engine\u001b[0;34m(self, engine)\u001b[0m\n\u001b[1;32m   1038\u001b[0m             )\n\u001b[1;32m   1039\u001b[0m         \u001b[0;31m# error: Too many arguments for \"ParserBase\"\u001b[0m\u001b[0;34m\u001b[0m\u001b[0;34m\u001b[0m\u001b[0m\n\u001b[0;32m-> 1040\u001b[0;31m         \u001b[0;32mreturn\u001b[0m \u001b[0mmapping\u001b[0m\u001b[0;34m[\u001b[0m\u001b[0mengine\u001b[0m\u001b[0;34m]\u001b[0m\u001b[0;34m(\u001b[0m\u001b[0mself\u001b[0m\u001b[0;34m.\u001b[0m\u001b[0mf\u001b[0m\u001b[0;34m,\u001b[0m \u001b[0;34m**\u001b[0m\u001b[0mself\u001b[0m\u001b[0;34m.\u001b[0m\u001b[0moptions\u001b[0m\u001b[0;34m)\u001b[0m  \u001b[0;31m# type: ignore[call-arg]\u001b[0m\u001b[0;34m\u001b[0m\u001b[0;34m\u001b[0m\u001b[0m\n\u001b[0m\u001b[1;32m   1041\u001b[0m \u001b[0;34m\u001b[0m\u001b[0m\n\u001b[1;32m   1042\u001b[0m     \u001b[0;32mdef\u001b[0m \u001b[0m_failover_to_python\u001b[0m\u001b[0;34m(\u001b[0m\u001b[0mself\u001b[0m\u001b[0;34m)\u001b[0m\u001b[0;34m:\u001b[0m\u001b[0;34m\u001b[0m\u001b[0;34m\u001b[0m\u001b[0m\n",
      "\u001b[0;32m~/opt/anaconda3/lib/python3.9/site-packages/pandas/io/parsers/c_parser_wrapper.py\u001b[0m in \u001b[0;36m__init__\u001b[0;34m(self, src, **kwds)\u001b[0m\n\u001b[1;32m     49\u001b[0m \u001b[0;34m\u001b[0m\u001b[0m\n\u001b[1;32m     50\u001b[0m         \u001b[0;31m# open handles\u001b[0m\u001b[0;34m\u001b[0m\u001b[0;34m\u001b[0m\u001b[0m\n\u001b[0;32m---> 51\u001b[0;31m         \u001b[0mself\u001b[0m\u001b[0;34m.\u001b[0m\u001b[0m_open_handles\u001b[0m\u001b[0;34m(\u001b[0m\u001b[0msrc\u001b[0m\u001b[0;34m,\u001b[0m \u001b[0mkwds\u001b[0m\u001b[0;34m)\u001b[0m\u001b[0;34m\u001b[0m\u001b[0;34m\u001b[0m\u001b[0m\n\u001b[0m\u001b[1;32m     52\u001b[0m         \u001b[0;32massert\u001b[0m \u001b[0mself\u001b[0m\u001b[0;34m.\u001b[0m\u001b[0mhandles\u001b[0m \u001b[0;32mis\u001b[0m \u001b[0;32mnot\u001b[0m \u001b[0;32mNone\u001b[0m\u001b[0;34m\u001b[0m\u001b[0;34m\u001b[0m\u001b[0m\n\u001b[1;32m     53\u001b[0m \u001b[0;34m\u001b[0m\u001b[0m\n",
      "\u001b[0;32m~/opt/anaconda3/lib/python3.9/site-packages/pandas/io/parsers/base_parser.py\u001b[0m in \u001b[0;36m_open_handles\u001b[0;34m(self, src, kwds)\u001b[0m\n\u001b[1;32m    220\u001b[0m         \u001b[0mLet\u001b[0m \u001b[0mthe\u001b[0m \u001b[0mreaders\u001b[0m \u001b[0mopen\u001b[0m \u001b[0mIOHandles\u001b[0m \u001b[0mafter\u001b[0m \u001b[0mthey\u001b[0m \u001b[0mare\u001b[0m \u001b[0mdone\u001b[0m \u001b[0;32mwith\u001b[0m \u001b[0mtheir\u001b[0m \u001b[0mpotential\u001b[0m \u001b[0mraises\u001b[0m\u001b[0;34m.\u001b[0m\u001b[0;34m\u001b[0m\u001b[0;34m\u001b[0m\u001b[0m\n\u001b[1;32m    221\u001b[0m         \"\"\"\n\u001b[0;32m--> 222\u001b[0;31m         self.handles = get_handle(\n\u001b[0m\u001b[1;32m    223\u001b[0m             \u001b[0msrc\u001b[0m\u001b[0;34m,\u001b[0m\u001b[0;34m\u001b[0m\u001b[0;34m\u001b[0m\u001b[0m\n\u001b[1;32m    224\u001b[0m             \u001b[0;34m\"r\"\u001b[0m\u001b[0;34m,\u001b[0m\u001b[0;34m\u001b[0m\u001b[0;34m\u001b[0m\u001b[0m\n",
      "\u001b[0;32m~/opt/anaconda3/lib/python3.9/site-packages/pandas/io/common.py\u001b[0m in \u001b[0;36mget_handle\u001b[0;34m(path_or_buf, mode, encoding, compression, memory_map, is_text, errors, storage_options)\u001b[0m\n\u001b[1;32m    700\u001b[0m         \u001b[0;32mif\u001b[0m \u001b[0mioargs\u001b[0m\u001b[0;34m.\u001b[0m\u001b[0mencoding\u001b[0m \u001b[0;32mand\u001b[0m \u001b[0;34m\"b\"\u001b[0m \u001b[0;32mnot\u001b[0m \u001b[0;32min\u001b[0m \u001b[0mioargs\u001b[0m\u001b[0;34m.\u001b[0m\u001b[0mmode\u001b[0m\u001b[0;34m:\u001b[0m\u001b[0;34m\u001b[0m\u001b[0;34m\u001b[0m\u001b[0m\n\u001b[1;32m    701\u001b[0m             \u001b[0;31m# Encoding\u001b[0m\u001b[0;34m\u001b[0m\u001b[0;34m\u001b[0m\u001b[0m\n\u001b[0;32m--> 702\u001b[0;31m             handle = open(\n\u001b[0m\u001b[1;32m    703\u001b[0m                 \u001b[0mhandle\u001b[0m\u001b[0;34m,\u001b[0m\u001b[0;34m\u001b[0m\u001b[0;34m\u001b[0m\u001b[0m\n\u001b[1;32m    704\u001b[0m                 \u001b[0mioargs\u001b[0m\u001b[0;34m.\u001b[0m\u001b[0mmode\u001b[0m\u001b[0;34m,\u001b[0m\u001b[0;34m\u001b[0m\u001b[0;34m\u001b[0m\u001b[0m\n",
      "\u001b[0;31mFileNotFoundError\u001b[0m: [Errno 2] No such file or directory: './Import/DatenBalkonien.csv'"
     ]
    }
   ],
   "source": [
    "#Import der Daten als Dataframe\n",
    "plantfacts_df = pd.read_csv('./Import/DatenBalkonien.csv',sep=\",\")"
   ]
  },
  {
   "cell_type": "code",
   "execution_count": null,
   "id": "f6bd2ce9",
   "metadata": {},
   "outputs": [],
   "source": [
    "#Anzeigen Typ und Prüfung, ob Pandas Dataframe erstellt wurde.\n",
    "print(type(plantfacts_df))"
   ]
  },
  {
   "cell_type": "code",
   "execution_count": null,
   "id": "88b4e1a2",
   "metadata": {
    "scrolled": true
   },
   "outputs": [],
   "source": [
    "#Anzeigen Attribute\n",
    "plantfacts_df.head()"
   ]
  },
  {
   "cell_type": "code",
   "execution_count": null,
   "id": "d8d4d7b9",
   "metadata": {
    "scrolled": true
   },
   "outputs": [],
   "source": [
    "#Anzeigen Dataframe und Durchsicht auf Null-Werte / Richtigkeit Datentypen.\n",
    "plantfacts_df.info()"
   ]
  },
  {
   "cell_type": "markdown",
   "id": "f26e10b8",
   "metadata": {},
   "source": [
    "## 1.2 Datenbereinigung \n",
    "---\n",
    "\n",
    "Es wird eine Kopie des Dataframes erstellt, die um nicht genutzte Attribute sowie Duplikate und fehlerhafte Werte (hier: nicht vorhanden) bereinigt wird. \n",
    "Spaltenbezeichnungen und Pflanzennamen werden vereinheitlicht (lowercase, Spaltenbezeichnungen: keine Leerzeichen)."
   ]
  },
  {
   "cell_type": "code",
   "execution_count": null,
   "id": "dae68ffd",
   "metadata": {},
   "outputs": [],
   "source": [
    "#Kopie des Dataframes und Aussortieren der Attribute (Spalten), die nicht weiter verwendet werden.\n",
    "plants_df = plantfacts_df.copy()\n",
    "plants_df. drop(plants_df.columns[[1,4,5,6,7,8,9,10,11,12,13,26]],\n",
    "                    axis = 1,\n",
    "                    inplace = True)"
   ]
  },
  {
   "cell_type": "code",
   "execution_count": null,
   "id": "6a265743",
   "metadata": {},
   "outputs": [],
   "source": [
    "#Ausgabe des neuen Dataframes.\n",
    "plants_df.info()"
   ]
  },
  {
   "cell_type": "code",
   "execution_count": null,
   "id": "d1f4722e",
   "metadata": {
    "scrolled": true
   },
   "outputs": [],
   "source": [
    "#Duplikate finden und beheben. \n",
    "pp.ProfileReport(plants_df, minimal=True)"
   ]
  },
  {
   "cell_type": "code",
   "execution_count": null,
   "id": "02235549",
   "metadata": {},
   "outputs": [],
   "source": [
    "#Es gibt einige Duplikate, z.B. Oregano:\n",
    "print(plants_df.loc[plants_df['Name'] == 'Oregano'])\n"
   ]
  },
  {
   "cell_type": "code",
   "execution_count": null,
   "id": "0fff56a7",
   "metadata": {},
   "outputs": [],
   "source": [
    "#Löschen von Duplikaten in der Spalte 'Namen' aus dem Dataframe, da dieser für den Abgleich mit der Usereingabe benötigt wird:\n",
    "plants_df.drop_duplicates(subset=['Name'], keep='first', inplace=True, ignore_index=True)\n",
    "print(plants_df.loc[plants_df['Name'] == 'Oregano']) "
   ]
  },
  {
   "cell_type": "code",
   "execution_count": null,
   "id": "74db610a",
   "metadata": {
    "scrolled": true
   },
   "outputs": [],
   "source": [
    "#Spaltenbezeichnungen: Lowercase und _ statt Leerzeichen.\n",
    "plants_df = plants_df.rename(str.lower, axis='columns')\n",
    "\n",
    "#Pflanzennamen: Lowercase.\n",
    "plants_df['name'] = plants_df['name'].str.lower()\n",
    "plants_df['kategorie'] = plants_df['kategorie'].str.lower()\n",
    "plants_df.head()"
   ]
  },
  {
   "cell_type": "markdown",
   "id": "3c4404ae",
   "metadata": {},
   "source": [
    "**Anmerkung: Befehl lower für ganzes Dataframe wäre besser**"
   ]
  },
  {
   "cell_type": "code",
   "execution_count": null,
   "id": "7f786954",
   "metadata": {},
   "outputs": [],
   "source": [
    "#Ausgeben des Dataframes.\n",
    "plants_df.info()\n",
    "#Ausgeben als csv file.\n",
    "plants_df.to_csv('./Import/plants_df.csv', index=False)"
   ]
  },
  {
   "cell_type": "markdown",
   "id": "7b909b71",
   "metadata": {},
   "source": [
    "# 2. Programm\n",
    "---\n",
    "\n",
    "Es werden aufgrund einer Usereingabe (2.1) der auf Balkon / im Garten befindlichen Pflanzen der Biodiversitätsindex (2.2) und ein Bienenscore berechnet sowie im Anschluss eine Empfehlung zur Verbesserung des Bienenscores (2.3) gegeben. Es wird ebenfalls angezeigt, in welchen Monaten keine Pflanze blüht und somit keine Nahrung für Bienen geboten wird (2.4). "
   ]
  },
  {
   "cell_type": "markdown",
   "id": "69878569",
   "metadata": {},
   "source": [
    "## 2.1 Usereingabe Pflanzen\n",
    "---\n",
    "\n",
    "Mit Hilfe einer Funktion für die Usereingabe wird abgefragt, wie viele unterschiedliche Pflanzenarten auf dem Balkon/im Garten des Users wachsen, welche das sind und wie viele Pflanzen jeweils.\n",
    "Die Eingaben werden in ein Dataframe user_input() geschrieben.\n",
    "\n",
    "Das Programm für die Eingabe enthält ebenfalls Checks der Eingabedaten zur Vermeidung fehlerhafter Eingaben. Diese Checks sind als separate Fuktionen geschieben."
   ]
  },
  {
   "cell_type": "markdown",
   "id": "6bae09a4",
   "metadata": {},
   "source": [
    "*Beispiele für mögliche Usereingabe*\n",
    "\n",
    "*positives Beispiel (8): Kornelkirsche, Oregano, Rose ungefüllt, gewöhnliche Waldrebe, Safran, Tulpe, Kornblume, Sonnenblume (jeweils 5)*\n",
    "\n",
    "*negatives Beispiel (3): Bauernhortensie (50), Berg-Waldrebe (1), Wald-Erdbeere(1)*"
   ]
  },
  {
   "cell_type": "code",
   "execution_count": null,
   "id": "b10f6c3b",
   "metadata": {},
   "outputs": [],
   "source": [
    "# Check, ob die eingebenen Pflanzenart im Dataframe der Pflanzen überhaupt vorhanden ist \n",
    "# sowie ebefalls, ob die Pflanzenart bereits eingegeben wurde \n",
    "def input_plant_name(pflanze):\n",
    "    ad = input(\"Name der Pflanzenart: \")\n",
    "    \n",
    "    # check 1: in Liste?\n",
    "    if ad.lower() not in plants_df[\"name\"].tolist():\n",
    "        print(\"Pflanzenart ist nicht bekannt. Bitte erneut eingeben.\")\n",
    "        ad = input_plant_name(pflanze)\n",
    "        \n",
    "    # check 2: Eingabe bereits erfolgt\n",
    "    if ad.lower() in pflanze:\n",
    "        print(\"Du hast diese Pflanzenart bereits eingegeben. Bitte eine andere Art eingeben.\")\n",
    "        ad = input_plant_name(pflanze)\n",
    "    return ad\n",
    "\n",
    "# Check, ob die eingegeben Anzahl von Pflanzen ein Integer ist\n",
    "def check_plant_number(input):\n",
    "    try:\n",
    "        # Convert it into integer\n",
    "        val = int(input)\n",
    "        return val\n",
    "    except ValueError:\n",
    "        print(\"Anzahl ist keine Zahl. Bitte erneut eingeben.\")\n",
    "        return input_plant_number()\n",
    "    return val\n",
    "\n",
    "\n",
    "def input_plant_number():\n",
    "    return check_plant_number(input(\"Anzahl: \")) \n",
    "    \n",
    "# Schleife für die Eingabe der Pflanzenarten und deren Namen sowie Anzahl\n",
    "def user_input():\n",
    "    n = int(input(\"Wie viele Pflanzenarten haben Sie insgesamt?: \"))\n",
    "    pflanze = []\n",
    "    pflanze_anzahl = []\n",
    "    for i in range(n):\n",
    "        ad = input_plant_name(pflanze)\n",
    "        nm = input_plant_number()\n",
    "        ad_l = ad.lower()\n",
    "        pflanze.append(ad_l)\n",
    "        pflanze_anzahl.append(nm)\n",
    "    list_user = {\"name\": pflanze, \"anzahl\": pflanze_anzahl}\n",
    "    user_df = pd.DataFrame(list_user)\n",
    "    return user_df\n",
    "\n",
    "\n",
    "user_df = user_input() \n",
    "user_df"
   ]
  },
  {
   "cell_type": "markdown",
   "id": "2b58fd22",
   "metadata": {},
   "source": [
    "*Beispiele für mögliche Usereingabe*\n",
    "\n",
    "*1. Beispiel (positiv) (8): Kornelkirsche, Oregano, Rose ungefüllt, gewöhnliche Waldrebe, Safran, Tulpe, Kornblume, Sonnenblume (jeweils 5)*\n",
    "\n",
    "*2. Beispiel (negativ) (3): Bauernhortensie (50), Berg-Waldrebe (1), Wald-Erdbeere(1)*"
   ]
  },
  {
   "cell_type": "markdown",
   "id": "43dc50fc",
   "metadata": {},
   "source": [
    "## 2.2 Diversitätsberechnung\n",
    "---\n",
    "\n",
    "Hier wird die Biodiversität anhand des XYZ Index berechnet... Der Index eignet sich für .. Ein Index < ... ist gut, ein Index > zu gering..."
   ]
  },
  {
   "cell_type": "markdown",
   "id": "202d7c1a",
   "metadata": {},
   "source": [
    "Der Shannon_index ist einer der häufigst angewandten Index für die Biodiversität. Dieser eignet sich insbesonderes für klar abgegränzte Flächen oder Bereiche (Nagendra 2022). In der Natur liegt der Shannon-Indes zwischen 1.5 und 3.5 (Suspense et al. 2016).\n",
    "\"Weil der Diversitätsindex alleine nicht erkennen lässt, ob sein Wert aufgrund einer hohen Artenzahl mit jeweils unterschiedlicher Individuenzahl oder durch gleichmäßige Verteilung der Individuen auf wenige Arten entstanden ist, benutzt man als Vergleichsmaß die berechnete Evenness. Man setzt dabei den tatsächlichen Diversitätswert in Relation zu dem maximal möglichen Diversitätswert, der sich bei gleicher Artenzahl, aber unter größtmöglicher Gleichverteilung der Individuen auf die bestehenden Arten ergeben würde. Der Wert für die Evenness liegt dabei zwischen 0 (völlig ungleiche Verteilung der Individuen auf die einzelnen Arten) und 1 (totale Gleichverteilung)\" (Spektrum 2022)."
   ]
  },
  {
   "cell_type": "code",
   "execution_count": null,
   "id": "146704ee",
   "metadata": {},
   "outputs": [],
   "source": [
    "#ANPASSEN: Berechnung der Alpha Diversität (in einem abgrenzbaren Lebensraum) mit Shannon-Index (H):\n",
    "\n",
    "from math import log as ln\n",
    "\n",
    "def shannon_index(user_input):\n",
    "    def p(n, N):\n",
    "         return (float(n) / N) * ln(float(n) / N)\n",
    "    N = user_input.anzahl.sum()\n",
    "\n",
    "    sdi = -sum(p(n, N) for n in user_input.anzahl if n != 0)\n",
    "    \n",
    "    #Diversitätswert in Relation zu dem maximal möglichen Diversitätswert\n",
    "    evenn = sdi / ln(user_input.name.count())\n",
    "    \n",
    "    \n",
    "    print(\"Dein Shannon-Index (H) ist:\", round(sdi,4))\n",
    "    print(\"Die Evenness (w) beträgt:\", round(evenn,4))\n",
    "    \n",
    "    \n",
    "    if evenn > 0.8 or sdi > 2:\n",
    "        print(\"Dein Balkon ist ausgeglichen bepflanzt und hat eine gute Biodiversität\")\n",
    "    else:\n",
    "        print(\"Dein Balkon hat eine geringe Biodiversität. Es scheint, dass eine oder wenige Pflanze verhältnissmässig oft vorkommen.\")\n",
    "        \n",
    "shannon_index(user_df)"
   ]
  },
  {
   "cell_type": "markdown",
   "id": "c621f262",
   "metadata": {},
   "source": [
    "**Anmerkung Anna:**\n",
    "\n",
    "**Ich bekomme auch einen guten BioDiv, wenn ich nur 2 verschiede Pflanzenarten mit je 2 Pflanzen eingebe. \n",
    "Ab wann kann man das Ergebnis als gut bezeichnen? \n",
    "Nach diesem Video (https://www.youtube.com/watch?v=-FsRYC5QwkA ca. min 3:05) ist \n",
    "    < 1 eine sehr niedriger Alpha Diversität, \n",
    "    bis 1,5 vergleichsweise niedrige Diversität\n",
    "    ab > 2 hohe Diversität.**"
   ]
  },
  {
   "cell_type": "markdown",
   "id": "65be1731",
   "metadata": {},
   "source": [
    "## 2.3 Bienenscore\n",
    "---\n",
    "\n",
    "Hier wird aus der Anzahl bienenfreundlicher Pflanzen (bienenfreundliche Pflanze * Anzahl) ein Bienescore (Anzahl bienenfreundliche Pflanzen / Pflanzen gesamt) berechnet. Ist dieser < 85%, wird eine Empfehlung ausgegeben, mit welchen bienenfreundlichen Pflanzen der Score verbessert werden kann."
   ]
  },
  {
   "cell_type": "code",
   "execution_count": null,
   "id": "c01bc279",
   "metadata": {},
   "outputs": [],
   "source": [
    "#neues Dataframe mit allen Spalten aus plants_df zu Usereingabe erstellen.\n",
    "user_plants_df = pd.merge(plants_df, user_df, on=['name'], how='inner')\n",
    "\n",
    "#Spalte mit Score für für Bienen wertvolle Pflanzen.\n",
    "user_plants_df = user_plants_df.assign(score_biene=user_plants_df['biene']*user_plants_df['anzahl'])\n",
    "user_plants_df"
   ]
  },
  {
   "cell_type": "code",
   "execution_count": null,
   "id": "94c0ec16",
   "metadata": {},
   "outputs": [],
   "source": [
    "#Zeile mit Summe je Spalte hinzufügen oder Summe score_biene berechnen.\n",
    "Total = user_plants_df['score_biene'].sum()/user_df['anzahl'].sum()*100\n",
    "\n",
    "print(\"Anzahl bienenfreundliche Pflanzen: \",user_plants_df['score_biene'].sum())\n",
    "print(\"Anzahl Pflanzen gesamt: \", user_df['anzahl'].sum())\n",
    "print(\"Dein Bienenscore ist =\",Total,\"%.\")"
   ]
  },
  {
   "cell_type": "code",
   "execution_count": null,
   "id": "127da50e",
   "metadata": {},
   "outputs": [],
   "source": [
    "#Feedback zu Bienenscore:\n",
    "if Total > 85:\n",
    "    print(\"Das ist super! Glückwunsch :-)\")\n",
    "else:\n",
    "    print(\"Du solltest mehr bienenfreundliche Pflanzen pflanzen. Zum Beispiel:\")\n",
    "if Total <= 85:\n",
    "    subset_biene_df = plants_df.loc[plants_df['biene'] == 1]\n",
    "    #Empfehlung, falls Bienenscore <=85%:\n",
    "    print(subset_biene_df.name.sample(5))"
   ]
  },
  {
   "cell_type": "markdown",
   "id": "f90df0b0",
   "metadata": {},
   "source": [
    "## 2.4 Blühzeitscore\n",
    "---\n",
    "\n",
    "Hier wird dargestellt, in welchen Monaten die vorhandenen Pflanzen Blüte tragen und welche davon für Bienen nützlich sind. Fehlen Blüten für Bienen in Monaten außer Januar und Februar wird der User darauf hingewiesen beim nächsten Pflanzenkauf darauf zu achten, bienenfreundliche Pflanzen mit Blüte in diesen Monaten zu kaufen."
   ]
  },
  {
   "cell_type": "code",
   "execution_count": null,
   "id": "674d7d62",
   "metadata": {},
   "outputs": [],
   "source": [
    "#Dataframe über Monat, Blüte und bienenfreundliche Blüte:\n",
    "monat = ['jan', 'feb', 'mrz', 'apr', 'mai', 'jun', 'jul', 'aug', 'sep', 'okt', 'nov', 'dez'] \n",
    "blüte = list(map(lambda monat: user_plants_df[monat].sum(), monat))\n",
    "subset_user_plants_df=user_plants_df.loc[user_plants_df['biene'] == 1]\n",
    "blüte_biene = list(map(lambda monat: subset_user_plants_df[monat].sum(), monat))\n",
    "\n",
    "blüte_anz_monat_df = pd.DataFrame({'monat': monat, 'blüte': blüte, 'blüte_biene': blüte_biene})\n",
    "\n",
    "#Visualisierung der Anzahl blühender Pflanzenarten sowie bienenfreundlicher blühenden Pflanzenarten je Monat\n",
    "ax_blüte = blüte_anz_monat_df.plot.bar(x='monat', rot=0)"
   ]
  },
  {
   "cell_type": "code",
   "execution_count": null,
   "id": "6aebc0de",
   "metadata": {},
   "outputs": [],
   "source": [
    "#Hinweis, in welchen Monaten Blüte für Bienen fehlt. \n",
    "keine_blüte_biene = blüte_anz_monat_df.loc[blüte_anz_monat_df['blüte_biene'] == 0]\n",
    "\n",
    "from functools import reduce\n",
    "monate = reduce(lambda a, b: a + ', ' + b, keine_blüte_biene['monat'].tolist())\n",
    "\n",
    "if monate == 'jan, dez':\n",
    "    print(\"Super!\")\n",
    "else:\n",
    "    print(\"In den folgenden Monaten blüht keine Pflanze:\", monate)\n",
    "    print(\"Du solltest beim nächsten Pflanzenkauf darauf achten Pflanzen zu wählen, die bienenfreundlich sind und in diesen Monaten blühen.\")"
   ]
  },
  {
   "cell_type": "code",
   "execution_count": null,
   "id": "f086dcfb",
   "metadata": {},
   "outputs": [],
   "source": [
    "#Empfehlung, in welchen Monaten noch Blüte fehlt, ggf. welche Pflanzen das ändern könnten. "
   ]
  },
  {
   "cell_type": "code",
   "execution_count": null,
   "id": "0dee7610",
   "metadata": {},
   "outputs": [],
   "source": []
  },
  {
   "cell_type": "code",
   "execution_count": null,
   "id": "95abb385",
   "metadata": {},
   "outputs": [],
   "source": []
  },
  {
   "cell_type": "code",
   "execution_count": null,
   "id": "c430a278",
   "metadata": {},
   "outputs": [],
   "source": []
  }
 ],
 "metadata": {
  "kernelspec": {
   "display_name": "Python 3 (ipykernel)",
   "language": "python",
   "name": "python3"
  },
  "language_info": {
   "codemirror_mode": {
    "name": "ipython",
    "version": 3
   },
   "file_extension": ".py",
   "mimetype": "text/x-python",
   "name": "python",
   "nbconvert_exporter": "python",
   "pygments_lexer": "ipython3",
   "version": "3.9.7"
  }
 },
 "nbformat": 4,
 "nbformat_minor": 5
}

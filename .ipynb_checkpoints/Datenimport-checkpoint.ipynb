{
 "cells": [
  {
   "cell_type": "markdown",
   "id": "269bb41b",
   "metadata": {},
   "source": [
    "# 1. Datenimport und -bereinigung\n",
    "---\n",
    "## 1.1 Datenimport\n",
    "---\n",
    "\n",
    "Hier werden aus einem csv file Pflanzendaten (Insektenfreundliche, Standortansprüche, Blütemonate etc.) zur Berechnung des Bienen- und des Blühzeitscores in ein pandas Dataframe gelesen."
   ]
  },
  {
   "cell_type": "markdown",
   "id": "95238d00",
   "metadata": {},
   "source": [
    "### 1.1.1 Importieren der benötigten Libraries:\n",
    "- _pandas_\n",
    "- _Pandas_profiling_"
   ]
  },
  {
   "cell_type": "code",
   "execution_count": 4,
   "id": "8cb8e530",
   "metadata": {},
   "outputs": [],
   "source": [
    "import pandas as pd\n",
    "import pandas_profiling as pp"
   ]
  },
  {
   "cell_type": "markdown",
   "id": "4ba94a6d",
   "metadata": {},
   "source": [
    "### 1.1.2 Einlesen der csv-Datei \"DatenBalkonien\" aus dem Importordner"
   ]
  },
  {
   "cell_type": "code",
   "execution_count": 5,
   "id": "26da0587",
   "metadata": {},
   "outputs": [],
   "source": [
    "#Import der Daten als Dataframe\n",
    "plantfacts_df = pd.read_csv('./Import/DatenBalkonien.csv',sep=\",\")"
   ]
  },
  {
   "cell_type": "code",
   "execution_count": 6,
   "id": "f6bd2ce9",
   "metadata": {},
   "outputs": [
    {
     "name": "stdout",
     "output_type": "stream",
     "text": [
      "<class 'pandas.core.frame.DataFrame'>\n"
     ]
    }
   ],
   "source": [
    "#Anzeigen Typ und Prüfung, ob Pandas Dataframe erstellt wurde.\n",
    "print(type(plantfacts_df))"
   ]
  },
  {
   "cell_type": "code",
   "execution_count": 7,
   "id": "88b4e1a2",
   "metadata": {
    "scrolled": true
   },
   "outputs": [
    {
     "data": {
      "text/html": [
       "<div>\n",
       "<style scoped>\n",
       "    .dataframe tbody tr th:only-of-type {\n",
       "        vertical-align: middle;\n",
       "    }\n",
       "\n",
       "    .dataframe tbody tr th {\n",
       "        vertical-align: top;\n",
       "    }\n",
       "\n",
       "    .dataframe thead th {\n",
       "        text-align: right;\n",
       "    }\n",
       "</style>\n",
       "<table border=\"1\" class=\"dataframe\">\n",
       "  <thead>\n",
       "    <tr style=\"text-align: right;\">\n",
       "      <th></th>\n",
       "      <th>Name</th>\n",
       "      <th>botanischer Name</th>\n",
       "      <th>Pflanzenart</th>\n",
       "      <th>Biene</th>\n",
       "      <th>Schmetterling</th>\n",
       "      <th>Vogel</th>\n",
       "      <th>Hummel</th>\n",
       "      <th>(Schweb-)fliege</th>\n",
       "      <th>Winterhart</th>\n",
       "      <th>Sonne</th>\n",
       "      <th>...</th>\n",
       "      <th>Apr</th>\n",
       "      <th>Mai</th>\n",
       "      <th>Jun</th>\n",
       "      <th>Jul</th>\n",
       "      <th>Aug</th>\n",
       "      <th>Sep</th>\n",
       "      <th>Okt</th>\n",
       "      <th>Nov</th>\n",
       "      <th>Dez</th>\n",
       "      <th>Quelle</th>\n",
       "    </tr>\n",
       "  </thead>\n",
       "  <tbody>\n",
       "    <tr>\n",
       "      <th>0</th>\n",
       "      <td>Zitronenmelisse</td>\n",
       "      <td>unkown</td>\n",
       "      <td>Kräuter</td>\n",
       "      <td>1</td>\n",
       "      <td>1</td>\n",
       "      <td>0</td>\n",
       "      <td>0</td>\n",
       "      <td>0</td>\n",
       "      <td>1</td>\n",
       "      <td>1</td>\n",
       "      <td>...</td>\n",
       "      <td>0</td>\n",
       "      <td>0</td>\n",
       "      <td>1</td>\n",
       "      <td>1</td>\n",
       "      <td>1</td>\n",
       "      <td>0</td>\n",
       "      <td>0</td>\n",
       "      <td>0</td>\n",
       "      <td>0</td>\n",
       "      <td>Biogarten</td>\n",
       "    </tr>\n",
       "    <tr>\n",
       "      <th>1</th>\n",
       "      <td>Zierapfel</td>\n",
       "      <td>unkown</td>\n",
       "      <td>Rosengewächs</td>\n",
       "      <td>1</td>\n",
       "      <td>0</td>\n",
       "      <td>1</td>\n",
       "      <td>0</td>\n",
       "      <td>0</td>\n",
       "      <td>1</td>\n",
       "      <td>1</td>\n",
       "      <td>...</td>\n",
       "      <td>1</td>\n",
       "      <td>1</td>\n",
       "      <td>0</td>\n",
       "      <td>0</td>\n",
       "      <td>0</td>\n",
       "      <td>0</td>\n",
       "      <td>0</td>\n",
       "      <td>0</td>\n",
       "      <td>0</td>\n",
       "      <td>Biogarten</td>\n",
       "    </tr>\n",
       "    <tr>\n",
       "      <th>2</th>\n",
       "      <td>Winterheckenzwiebel</td>\n",
       "      <td>unkown</td>\n",
       "      <td>Gemüse</td>\n",
       "      <td>1</td>\n",
       "      <td>1</td>\n",
       "      <td>0</td>\n",
       "      <td>0</td>\n",
       "      <td>0</td>\n",
       "      <td>1</td>\n",
       "      <td>1</td>\n",
       "      <td>...</td>\n",
       "      <td>0</td>\n",
       "      <td>0</td>\n",
       "      <td>1</td>\n",
       "      <td>1</td>\n",
       "      <td>1</td>\n",
       "      <td>0</td>\n",
       "      <td>0</td>\n",
       "      <td>0</td>\n",
       "      <td>0</td>\n",
       "      <td>Biogarten</td>\n",
       "    </tr>\n",
       "    <tr>\n",
       "      <th>3</th>\n",
       "      <td>Winter-Bohnenkraut</td>\n",
       "      <td>unkown</td>\n",
       "      <td>Gemüse</td>\n",
       "      <td>1</td>\n",
       "      <td>1</td>\n",
       "      <td>0</td>\n",
       "      <td>0</td>\n",
       "      <td>0</td>\n",
       "      <td>1</td>\n",
       "      <td>1</td>\n",
       "      <td>...</td>\n",
       "      <td>0</td>\n",
       "      <td>0</td>\n",
       "      <td>1</td>\n",
       "      <td>1</td>\n",
       "      <td>1</td>\n",
       "      <td>1</td>\n",
       "      <td>0</td>\n",
       "      <td>0</td>\n",
       "      <td>0</td>\n",
       "      <td>Biogarten</td>\n",
       "    </tr>\n",
       "    <tr>\n",
       "      <th>4</th>\n",
       "      <td>Schwarzer Holunder</td>\n",
       "      <td>unkown</td>\n",
       "      <td>Staude</td>\n",
       "      <td>1</td>\n",
       "      <td>1</td>\n",
       "      <td>1</td>\n",
       "      <td>0</td>\n",
       "      <td>0</td>\n",
       "      <td>1</td>\n",
       "      <td>1</td>\n",
       "      <td>...</td>\n",
       "      <td>0</td>\n",
       "      <td>1</td>\n",
       "      <td>1</td>\n",
       "      <td>0</td>\n",
       "      <td>0</td>\n",
       "      <td>0</td>\n",
       "      <td>0</td>\n",
       "      <td>0</td>\n",
       "      <td>0</td>\n",
       "      <td>Biogarten</td>\n",
       "    </tr>\n",
       "  </tbody>\n",
       "</table>\n",
       "<p>5 rows × 27 columns</p>\n",
       "</div>"
      ],
      "text/plain": [
       "                  Name botanischer Name   Pflanzenart  Biene  Schmetterling  \\\n",
       "0      Zitronenmelisse           unkown       Kräuter      1              1   \n",
       "1            Zierapfel           unkown  Rosengewächs      1              0   \n",
       "2  Winterheckenzwiebel           unkown        Gemüse      1              1   \n",
       "3   Winter-Bohnenkraut           unkown        Gemüse      1              1   \n",
       "4   Schwarzer Holunder           unkown        Staude      1              1   \n",
       "\n",
       "   Vogel  Hummel  (Schweb-)fliege  Winterhart  Sonne  ...  Apr  Mai  Jun Jul  \\\n",
       "0      0       0                0           1      1  ...    0    0    1   1   \n",
       "1      1       0                0           1      1  ...    1    1    0   0   \n",
       "2      0       0                0           1      1  ...    0    0    1   1   \n",
       "3      0       0                0           1      1  ...    0    0    1   1   \n",
       "4      1       0                0           1      1  ...    0    1    1   0   \n",
       "\n",
       "   Aug  Sep  Okt  Nov  Dez     Quelle  \n",
       "0    1    0    0    0    0  Biogarten  \n",
       "1    0    0    0    0    0  Biogarten  \n",
       "2    1    0    0    0    0  Biogarten  \n",
       "3    1    1    0    0    0  Biogarten  \n",
       "4    0    0    0    0    0  Biogarten  \n",
       "\n",
       "[5 rows x 27 columns]"
      ]
     },
     "execution_count": 7,
     "metadata": {},
     "output_type": "execute_result"
    }
   ],
   "source": [
    "#Anzeigen Attribute\n",
    "plantfacts_df.head()"
   ]
  },
  {
   "cell_type": "code",
   "execution_count": 8,
   "id": "d8d4d7b9",
   "metadata": {
    "scrolled": true
   },
   "outputs": [
    {
     "name": "stdout",
     "output_type": "stream",
     "text": [
      "<class 'pandas.core.frame.DataFrame'>\n",
      "RangeIndex: 117 entries, 0 to 116\n",
      "Data columns (total 27 columns):\n",
      " #   Column            Non-Null Count  Dtype \n",
      "---  ------            --------------  ----- \n",
      " 0   Name              117 non-null    object\n",
      " 1   botanischer Name  117 non-null    object\n",
      " 2   Pflanzenart       117 non-null    object\n",
      " 3   Biene             117 non-null    int64 \n",
      " 4   Schmetterling     117 non-null    int64 \n",
      " 5   Vogel             117 non-null    int64 \n",
      " 6   Hummel            117 non-null    int64 \n",
      " 7   (Schweb-)fliege   117 non-null    int64 \n",
      " 8   Winterhart        117 non-null    int64 \n",
      " 9   Sonne             117 non-null    int64 \n",
      " 10  Halbschatten      117 non-null    int64 \n",
      " 11  Schatten          117 non-null    int64 \n",
      " 12  Wasserbedarf      117 non-null    int64 \n",
      " 13  Wuchshöhe         117 non-null    object\n",
      " 14  Jan               117 non-null    int64 \n",
      " 15  Feb               117 non-null    int64 \n",
      " 16  Mrz               117 non-null    int64 \n",
      " 17  Apr               117 non-null    int64 \n",
      " 18  Mai               117 non-null    int64 \n",
      " 19  Jun               117 non-null    int64 \n",
      " 20  Jul               117 non-null    int64 \n",
      " 21  Aug               117 non-null    int64 \n",
      " 22  Sep               117 non-null    int64 \n",
      " 23  Okt               117 non-null    int64 \n",
      " 24  Nov               117 non-null    int64 \n",
      " 25  Dez               117 non-null    int64 \n",
      " 26  Quelle            117 non-null    object\n",
      "dtypes: int64(22), object(5)\n",
      "memory usage: 24.8+ KB\n"
     ]
    }
   ],
   "source": [
    "#Anzeigen Dataframe und Durchsicht auf Null-Werte / Richtigkeit Datentypen.\n",
    "plantfacts_df.info()"
   ]
  },
  {
   "cell_type": "markdown",
   "id": "f26e10b8",
   "metadata": {},
   "source": [
    "## 1.2 Datenbereinigung \n",
    "---\n",
    "\n",
    "Hier wird eine Kopie des Dataframes erstellt, das um nicht genutzte Attribute sowie Duplikate und fehlerhafte Werte (nicht vorhanden) bereinigt wird. Spaltenbezeichnungen und Pflanzennamen werden vereinheitlicht (lowercase, Spaltenbezeichnungen: keine Leerzeichen)."
   ]
  },
  {
   "cell_type": "code",
   "execution_count": 9,
   "id": "dae68ffd",
   "metadata": {},
   "outputs": [],
   "source": [
    "#Kopie des Dataframes und Aussortieren der Attribute (Spalten), die nicht weiter verwendet werden.\n",
    "plants_df = plantfacts_df.copy()\n",
    "plants_df. drop(plants_df.columns[[4,5,6,7,8,9,10,11,12,13,26]],\n",
    "                    axis = 1,\n",
    "                    inplace = True)"
   ]
  },
  {
   "cell_type": "code",
   "execution_count": 10,
   "id": "6a265743",
   "metadata": {},
   "outputs": [
    {
     "name": "stdout",
     "output_type": "stream",
     "text": [
      "<class 'pandas.core.frame.DataFrame'>\n",
      "RangeIndex: 117 entries, 0 to 116\n",
      "Data columns (total 16 columns):\n",
      " #   Column            Non-Null Count  Dtype \n",
      "---  ------            --------------  ----- \n",
      " 0   Name              117 non-null    object\n",
      " 1   botanischer Name  117 non-null    object\n",
      " 2   Pflanzenart       117 non-null    object\n",
      " 3   Biene             117 non-null    int64 \n",
      " 4   Jan               117 non-null    int64 \n",
      " 5   Feb               117 non-null    int64 \n",
      " 6   Mrz               117 non-null    int64 \n",
      " 7   Apr               117 non-null    int64 \n",
      " 8   Mai               117 non-null    int64 \n",
      " 9   Jun               117 non-null    int64 \n",
      " 10  Jul               117 non-null    int64 \n",
      " 11  Aug               117 non-null    int64 \n",
      " 12  Sep               117 non-null    int64 \n",
      " 13  Okt               117 non-null    int64 \n",
      " 14  Nov               117 non-null    int64 \n",
      " 15  Dez               117 non-null    int64 \n",
      "dtypes: int64(13), object(3)\n",
      "memory usage: 14.8+ KB\n"
     ]
    }
   ],
   "source": [
    "#Ausgabe des neuen Dataframes.\n",
    "plants_df.info()"
   ]
  },
  {
   "cell_type": "code",
   "execution_count": 11,
   "id": "d1f4722e",
   "metadata": {
    "scrolled": true
   },
   "outputs": [
    {
     "ename": "NameError",
     "evalue": "name 'pp' is not defined",
     "output_type": "error",
     "traceback": [
      "\u001b[0;31m---------------------------------------------------------------------------\u001b[0m",
      "\u001b[0;31mNameError\u001b[0m                                 Traceback (most recent call last)",
      "Input \u001b[0;32mIn [11]\u001b[0m, in \u001b[0;36m<cell line: 2>\u001b[0;34m()\u001b[0m\n\u001b[1;32m      1\u001b[0m \u001b[38;5;66;03m#Duplikate finden und beheben. \u001b[39;00m\n\u001b[0;32m----> 2\u001b[0m \u001b[43mpp\u001b[49m\u001b[38;5;241m.\u001b[39mProfileReport(plants_df, minimal\u001b[38;5;241m=\u001b[39m\u001b[38;5;28;01mTrue\u001b[39;00m)\n",
      "\u001b[0;31mNameError\u001b[0m: name 'pp' is not defined"
     ]
    }
   ],
   "source": [
    "#Duplikate finden und beheben. \n",
    "pp.ProfileReport(plants_df, minimal=True)"
   ]
  },
  {
   "cell_type": "code",
   "execution_count": 12,
   "id": "02235549",
   "metadata": {},
   "outputs": [
    {
     "name": "stdout",
     "output_type": "stream",
     "text": [
      "        Name  botanischer Name Pflanzenart  Biene  Jan  Feb  Mrz  Apr  Mai  \\\n",
      "19   Oregano  Origanum vulgare     Kräuter      1    0    0    0    0    0   \n",
      "107  Oregano  Origanum vulgare     Kräuter      1    0    0    0    0    0   \n",
      "\n",
      "     Jun  Jul  Aug  Sep  Okt  Nov  Dez  \n",
      "19     0    1    1    1    0    0    0  \n",
      "107    0    1    1    1    0    0    0  \n"
     ]
    }
   ],
   "source": [
    "#Es gibt einige Duplikate, z.B. Oregano:\n",
    "print(plants_df.loc[plants_df['botanischer Name'] == 'Origanum vulgare'])"
   ]
  },
  {
   "cell_type": "code",
   "execution_count": 13,
   "id": "0fff56a7",
   "metadata": {},
   "outputs": [
    {
     "name": "stdout",
     "output_type": "stream",
     "text": [
      "       Name  botanischer Name Pflanzenart  Biene  Jan  Feb  Mrz  Apr  Mai  \\\n",
      "19  Oregano  Origanum vulgare     Kräuter      1    0    0    0    0    0   \n",
      "\n",
      "    Jun  Jul  Aug  Sep  Okt  Nov  Dez  \n",
      "19    0    1    1    1    0    0    0  \n"
     ]
    }
   ],
   "source": [
    "#Löschen von Duplikaten in der Spalte 'Namen' aus dem Dataframe, da dieser für den Abgleich mit der Usereingabe benötigt wird:\n",
    "plants_df.drop_duplicates(subset=['Name'], keep='first', inplace=True, ignore_index=True)\n",
    "print(plants_df.loc[plants_df['botanischer Name'] == 'Origanum vulgare'])"
   ]
  },
  {
   "cell_type": "code",
   "execution_count": 14,
   "id": "74db610a",
   "metadata": {},
   "outputs": [
    {
     "data": {
      "text/html": [
       "<div>\n",
       "<style scoped>\n",
       "    .dataframe tbody tr th:only-of-type {\n",
       "        vertical-align: middle;\n",
       "    }\n",
       "\n",
       "    .dataframe tbody tr th {\n",
       "        vertical-align: top;\n",
       "    }\n",
       "\n",
       "    .dataframe thead th {\n",
       "        text-align: right;\n",
       "    }\n",
       "</style>\n",
       "<table border=\"1\" class=\"dataframe\">\n",
       "  <thead>\n",
       "    <tr style=\"text-align: right;\">\n",
       "      <th></th>\n",
       "      <th>name</th>\n",
       "      <th>botanischer_name</th>\n",
       "      <th>pflanzenart</th>\n",
       "      <th>biene</th>\n",
       "      <th>jan</th>\n",
       "      <th>feb</th>\n",
       "      <th>mrz</th>\n",
       "      <th>apr</th>\n",
       "      <th>mai</th>\n",
       "      <th>jun</th>\n",
       "      <th>jul</th>\n",
       "      <th>aug</th>\n",
       "      <th>sep</th>\n",
       "      <th>okt</th>\n",
       "      <th>nov</th>\n",
       "      <th>dez</th>\n",
       "    </tr>\n",
       "  </thead>\n",
       "  <tbody>\n",
       "    <tr>\n",
       "      <th>0</th>\n",
       "      <td>zitronenmelisse</td>\n",
       "      <td>unkown</td>\n",
       "      <td>Kräuter</td>\n",
       "      <td>1</td>\n",
       "      <td>0</td>\n",
       "      <td>0</td>\n",
       "      <td>0</td>\n",
       "      <td>0</td>\n",
       "      <td>0</td>\n",
       "      <td>1</td>\n",
       "      <td>1</td>\n",
       "      <td>1</td>\n",
       "      <td>0</td>\n",
       "      <td>0</td>\n",
       "      <td>0</td>\n",
       "      <td>0</td>\n",
       "    </tr>\n",
       "    <tr>\n",
       "      <th>1</th>\n",
       "      <td>zierapfel</td>\n",
       "      <td>unkown</td>\n",
       "      <td>Rosengewächs</td>\n",
       "      <td>1</td>\n",
       "      <td>0</td>\n",
       "      <td>0</td>\n",
       "      <td>0</td>\n",
       "      <td>1</td>\n",
       "      <td>1</td>\n",
       "      <td>0</td>\n",
       "      <td>0</td>\n",
       "      <td>0</td>\n",
       "      <td>0</td>\n",
       "      <td>0</td>\n",
       "      <td>0</td>\n",
       "      <td>0</td>\n",
       "    </tr>\n",
       "    <tr>\n",
       "      <th>2</th>\n",
       "      <td>winterheckenzwiebel</td>\n",
       "      <td>unkown</td>\n",
       "      <td>Gemüse</td>\n",
       "      <td>1</td>\n",
       "      <td>0</td>\n",
       "      <td>0</td>\n",
       "      <td>0</td>\n",
       "      <td>0</td>\n",
       "      <td>0</td>\n",
       "      <td>1</td>\n",
       "      <td>1</td>\n",
       "      <td>1</td>\n",
       "      <td>0</td>\n",
       "      <td>0</td>\n",
       "      <td>0</td>\n",
       "      <td>0</td>\n",
       "    </tr>\n",
       "    <tr>\n",
       "      <th>3</th>\n",
       "      <td>winter-bohnenkraut</td>\n",
       "      <td>unkown</td>\n",
       "      <td>Gemüse</td>\n",
       "      <td>1</td>\n",
       "      <td>0</td>\n",
       "      <td>0</td>\n",
       "      <td>0</td>\n",
       "      <td>0</td>\n",
       "      <td>0</td>\n",
       "      <td>1</td>\n",
       "      <td>1</td>\n",
       "      <td>1</td>\n",
       "      <td>1</td>\n",
       "      <td>0</td>\n",
       "      <td>0</td>\n",
       "      <td>0</td>\n",
       "    </tr>\n",
       "    <tr>\n",
       "      <th>4</th>\n",
       "      <td>schwarzer holunder</td>\n",
       "      <td>unkown</td>\n",
       "      <td>Staude</td>\n",
       "      <td>1</td>\n",
       "      <td>0</td>\n",
       "      <td>0</td>\n",
       "      <td>0</td>\n",
       "      <td>0</td>\n",
       "      <td>1</td>\n",
       "      <td>1</td>\n",
       "      <td>0</td>\n",
       "      <td>0</td>\n",
       "      <td>0</td>\n",
       "      <td>0</td>\n",
       "      <td>0</td>\n",
       "      <td>0</td>\n",
       "    </tr>\n",
       "  </tbody>\n",
       "</table>\n",
       "</div>"
      ],
      "text/plain": [
       "                  name botanischer_name   pflanzenart  biene  jan  feb  mrz  \\\n",
       "0      zitronenmelisse           unkown       Kräuter      1    0    0    0   \n",
       "1            zierapfel           unkown  Rosengewächs      1    0    0    0   \n",
       "2  winterheckenzwiebel           unkown        Gemüse      1    0    0    0   \n",
       "3   winter-bohnenkraut           unkown        Gemüse      1    0    0    0   \n",
       "4   schwarzer holunder           unkown        Staude      1    0    0    0   \n",
       "\n",
       "   apr  mai  jun  jul  aug  sep  okt  nov  dez  \n",
       "0    0    0    1    1    1    0    0    0    0  \n",
       "1    1    1    0    0    0    0    0    0    0  \n",
       "2    0    0    1    1    1    0    0    0    0  \n",
       "3    0    0    1    1    1    1    0    0    0  \n",
       "4    0    1    1    0    0    0    0    0    0  "
      ]
     },
     "execution_count": 14,
     "metadata": {},
     "output_type": "execute_result"
    }
   ],
   "source": [
    "#Spaltenbezeichnungen: Lowercase und _ statt Leerzeichen.\n",
    "plants_df = plants_df.rename(columns={'botanischer Name': 'botanischer_Name'})\n",
    "plants_df = plants_df.rename(str.lower, axis='columns')\n",
    "#Pflanzennamen: Lowercase.\n",
    "plants_df['name'] = plants_df['name'].str.lower()\n",
    "plants_df.head()"
   ]
  },
  {
   "cell_type": "code",
   "execution_count": 15,
   "id": "7f786954",
   "metadata": {},
   "outputs": [
    {
     "name": "stdout",
     "output_type": "stream",
     "text": [
      "<class 'pandas.core.frame.DataFrame'>\n",
      "RangeIndex: 110 entries, 0 to 109\n",
      "Data columns (total 16 columns):\n",
      " #   Column            Non-Null Count  Dtype \n",
      "---  ------            --------------  ----- \n",
      " 0   name              110 non-null    object\n",
      " 1   botanischer_name  110 non-null    object\n",
      " 2   pflanzenart       110 non-null    object\n",
      " 3   biene             110 non-null    int64 \n",
      " 4   jan               110 non-null    int64 \n",
      " 5   feb               110 non-null    int64 \n",
      " 6   mrz               110 non-null    int64 \n",
      " 7   apr               110 non-null    int64 \n",
      " 8   mai               110 non-null    int64 \n",
      " 9   jun               110 non-null    int64 \n",
      " 10  jul               110 non-null    int64 \n",
      " 11  aug               110 non-null    int64 \n",
      " 12  sep               110 non-null    int64 \n",
      " 13  okt               110 non-null    int64 \n",
      " 14  nov               110 non-null    int64 \n",
      " 15  dez               110 non-null    int64 \n",
      "dtypes: int64(13), object(3)\n",
      "memory usage: 13.9+ KB\n"
     ]
    }
   ],
   "source": [
    "#Ausgeben des Dataframes.\n",
    "plants_df.info()\n",
    "#Ausgeben als csv file.\n",
    "plants_df.to_csv('./Import/plants_df.csv', index=False)"
   ]
  },
  {
   "cell_type": "markdown",
   "id": "f52f1aee",
   "metadata": {},
   "source": [
    "**Frage Anna: Können wir die Ausgabe als csv entfernen, oder greifst du irgendwo darauf zu, Reto?**"
   ]
  },
  {
   "cell_type": "markdown",
   "id": "7b909b71",
   "metadata": {},
   "source": [
    "# 2 Programm\n",
    "---\n",
    "\n",
    "Es werden aufgrund einer Usereingabe (2.1) der auf Balkon / im Garten befindlichen Pflanzen der Biodiversitätsindex (2.2) sowie ein Bienenscore berechnet und eine Empfehlung zur Verbesserung des Bienenscores (2.3) gegeben. Es wird ebenfalls angezeigt, in welchen Monaten keine Pflanze blüht und somit keine Nahrung für Bienen geboten wird (2.4). "
   ]
  },
  {
   "cell_type": "markdown",
   "id": "69878569",
   "metadata": {},
   "source": [
    "## 2.1 Usereingabe Pflanzen\n",
    "---\n",
    "\n",
    "Mit hilfe einer Funktion für die Usereingabe wird abgefragt, wie viele unterschiedliche Pflanzenarten auf dem Balkon/im Garten des Users wachsen, welche das sind und wie viele Pflanzen jeweils.\n",
    "Die Eingaben werden in ein Dataframe user_input() geschrieben."
   ]
  },
  {
   "cell_type": "markdown",
   "id": "6bae09a4",
   "metadata": {},
   "source": [
    "*Beispiele für mögliche Usereingabe*\n",
    "\n",
    "*positives Beispiel (7): Kornelkirsche, Oregano, Rose ungefüllt, gewöhnliche Waldrebe, Safran, Tulpe, Kornblume (jeweils 1)*\n",
    "\n",
    "*negatives Beispiel (3): Bauernhortensie (50), Berg-Waldrebe (1), Wald-Erdbeere(1)*"
   ]
  },
  {
   "cell_type": "code",
   "execution_count": 43,
   "id": "b10f6c3b",
   "metadata": {},
   "outputs": [
    {
     "name": "stdout",
     "output_type": "stream",
     "text": [
      "Wie viele Pflanzenarten haben Sie insgesamt?: 2\n",
      "Name der Pflanzenart: Tulpe\n",
      "Anzahl: 3\n",
      "Name der Pflanzenart: Tulpe\n",
      "Du hast diese Pflanzenart bereits eingegeben. Bitte eine andere Art eingeben.\n",
      "Name der Pflanzenart: Bauernhortensie\n",
      "Anzahl: 3\n"
     ]
    },
    {
     "data": {
      "text/html": [
       "<div>\n",
       "<style scoped>\n",
       "    .dataframe tbody tr th:only-of-type {\n",
       "        vertical-align: middle;\n",
       "    }\n",
       "\n",
       "    .dataframe tbody tr th {\n",
       "        vertical-align: top;\n",
       "    }\n",
       "\n",
       "    .dataframe thead th {\n",
       "        text-align: right;\n",
       "    }\n",
       "</style>\n",
       "<table border=\"1\" class=\"dataframe\">\n",
       "  <thead>\n",
       "    <tr style=\"text-align: right;\">\n",
       "      <th></th>\n",
       "      <th>name</th>\n",
       "      <th>anzahl</th>\n",
       "    </tr>\n",
       "  </thead>\n",
       "  <tbody>\n",
       "    <tr>\n",
       "      <th>0</th>\n",
       "      <td>tulpe</td>\n",
       "      <td>3</td>\n",
       "    </tr>\n",
       "    <tr>\n",
       "      <th>1</th>\n",
       "      <td>bauernhortensie</td>\n",
       "      <td>3</td>\n",
       "    </tr>\n",
       "  </tbody>\n",
       "</table>\n",
       "</div>"
      ],
      "text/plain": [
       "              name  anzahl\n",
       "0            tulpe       3\n",
       "1  bauernhortensie       3"
      ]
     },
     "execution_count": 43,
     "metadata": {},
     "output_type": "execute_result"
    }
   ],
   "source": [
    "def input_plant_name(pflanze):\n",
    "    ad = input(\"Name der Pflanzenart: \")\n",
    "    \n",
    "    # check 1: in Liste?\n",
    "    if ad.lower() not in plants_df[\"name\"].tolist():\n",
    "        print(\"Pflanzenart ist nicht bekannt. Bitte erneut eingeben.\")\n",
    "        ad = input_plant_name(pflanze)\n",
    "        \n",
    "    # check 2: Eingabe bereits erfolgt\n",
    "    if ad.lower() in pflanze:\n",
    "        print(\"Du hast diese Pflanzenart bereits eingegeben. Bitte eine andere Art eingeben.\")\n",
    "        ad = input_plant_name(pflanze)\n",
    "\n",
    "    return ad\n",
    "\n",
    "\n",
    "def check_plant_number(input):\n",
    "    try:\n",
    "        # Convert it into integer\n",
    "        val = int(input)\n",
    "        return val\n",
    "    except ValueError:\n",
    "        print(\"Anzahl ist keine Zahl. Bitte erneut eingeben.\")\n",
    "        return input_plant_number()\n",
    "    return val\n",
    "\n",
    "\n",
    "def input_plant_number():\n",
    "    return check_plant_number(input(\"Anzahl: \")) \n",
    "    \n",
    "\n",
    "def user_input():\n",
    "    n = int(input(\"Wie viele Pflanzenarten haben Sie insgesamt?: \"))\n",
    "    pflanze = []\n",
    "    pflanze_anzahl = []\n",
    "    for i in range(n):\n",
    "        ad = input_plant_name(pflanze)\n",
    "        nm = input_plant_number()\n",
    "        ad_l = ad.lower()\n",
    "        pflanze.append(ad_l)\n",
    "        pflanze_anzahl.append(nm)\n",
    "    list_user = {\"name\": pflanze, \"anzahl\": pflanze_anzahl}\n",
    "    user_df = pd.DataFrame(list_user)\n",
    "    return user_df\n",
    "\n",
    "\n",
    "user_df = user_input() \n",
    "user_df"
   ]
  },
  {
   "cell_type": "markdown",
   "id": "43dc50fc",
   "metadata": {},
   "source": [
    "## 2.2 Diversitätsberechnung\n",
    "---\n",
    "\n",
    "Hier wird die Biodiversität anhand des XYZ Index berechnet... Der Index eignet sich für .. Ein Index < ... ist gut, ein Index > zu gering..."
   ]
  },
  {
   "cell_type": "code",
   "execution_count": 45,
   "id": "146704ee",
   "metadata": {},
   "outputs": [
    {
     "name": "stdout",
     "output_type": "stream",
     "text": [
      "Dein Shannon-Index (H) ist: 0.30102999566398114\n",
      "Dein Balkon hat einen niedrigen BioDiv\n"
     ]
    }
   ],
   "source": [
    "#ANPASSEN: Berechnung der Alpha Diversität (in einem abgrenzbaren Lebensraum) mit Shannon-Index (H):\n",
    "\n",
    "from math import log as ln\n",
    "\n",
    "def shannon_index(user_input):\n",
    "    def p(n, N):\n",
    "         return (float(n) / N) * ln(float(n) / N)\n",
    "    N = user_input.anzahl.sum()\n",
    "\n",
    "    sdi = -sum(p(n, N) for n in user_input.anzahl if n != 0)\n",
    "    #evern = sdi / ln(user_input.name.count())\n",
    "    evern = sdi / ln(10)\n",
    "    \n",
    "    print(\"Dein Shannon-Index (H) ist:\", evern)\n",
    "    \n",
    "    if evern > 0.5:\n",
    "        print(\"Dein Balkon hat eine guten BioDiv\")\n",
    "    else:\n",
    "        print(\"Dein Balkon hat einen niedrigen BioDiv\")\n",
    "        \n",
    "shannon_index(user_df)"
   ]
  },
  {
   "cell_type": "markdown",
   "id": "c621f262",
   "metadata": {},
   "source": [
    "**Anmerkung Anna:**\n",
    "\n",
    "**Ich bekomme auch einen guten BioDiv, wenn ich nur 2 verschiede Pflanzenarten mit je 2 Pflanzen eingebe. \n",
    "Ab wann kann man das Ergebnis als gut bezeichnen? \n",
    "Nach diesem Video (https://www.youtube.com/watch?v=-FsRYC5QwkA ca. min 3:05) ist \n",
    "    < 1 eine sehr niedriger Alpha Diversität, \n",
    "    bis 1,5 vergleichsweise niedrige Diversität\n",
    "    ab > 2 hohe Diversität.**"
   ]
  },
  {
   "cell_type": "markdown",
   "id": "65be1731",
   "metadata": {},
   "source": [
    "## 2.3 Bienenscore\n",
    "---\n",
    "\n",
    "Hier wird aus der Anzahl bienenfreundlicher Pflanzen (bienenfreundliche Pflanze * Anzahl) ein Bienescore (Anzahl bienenfreundliche Pflanzen / Pflanzen gesamt) berechnet. Ist dieser < 85%, wird eine Empfehlung ausgegeben, mit welchen bienenfreundlichen Pflanzen der Score verbessert werden kann."
   ]
  },
  {
   "cell_type": "code",
   "execution_count": 46,
   "id": "c01bc279",
   "metadata": {},
   "outputs": [
    {
     "data": {
      "text/html": [
       "<div>\n",
       "<style scoped>\n",
       "    .dataframe tbody tr th:only-of-type {\n",
       "        vertical-align: middle;\n",
       "    }\n",
       "\n",
       "    .dataframe tbody tr th {\n",
       "        vertical-align: top;\n",
       "    }\n",
       "\n",
       "    .dataframe thead th {\n",
       "        text-align: right;\n",
       "    }\n",
       "</style>\n",
       "<table border=\"1\" class=\"dataframe\">\n",
       "  <thead>\n",
       "    <tr style=\"text-align: right;\">\n",
       "      <th></th>\n",
       "      <th>name</th>\n",
       "      <th>botanischer_name</th>\n",
       "      <th>pflanzenart</th>\n",
       "      <th>biene</th>\n",
       "      <th>jan</th>\n",
       "      <th>feb</th>\n",
       "      <th>mrz</th>\n",
       "      <th>apr</th>\n",
       "      <th>mai</th>\n",
       "      <th>jun</th>\n",
       "      <th>jul</th>\n",
       "      <th>aug</th>\n",
       "      <th>sep</th>\n",
       "      <th>okt</th>\n",
       "      <th>nov</th>\n",
       "      <th>dez</th>\n",
       "      <th>anzahl</th>\n",
       "      <th>score_biene</th>\n",
       "    </tr>\n",
       "  </thead>\n",
       "  <tbody>\n",
       "    <tr>\n",
       "      <th>0</th>\n",
       "      <td>bauernhortensie</td>\n",
       "      <td>unkown</td>\n",
       "      <td>Staude</td>\n",
       "      <td>0</td>\n",
       "      <td>0</td>\n",
       "      <td>0</td>\n",
       "      <td>0</td>\n",
       "      <td>0</td>\n",
       "      <td>0</td>\n",
       "      <td>1</td>\n",
       "      <td>1</td>\n",
       "      <td>1</td>\n",
       "      <td>1</td>\n",
       "      <td>1</td>\n",
       "      <td>0</td>\n",
       "      <td>0</td>\n",
       "      <td>3</td>\n",
       "      <td>0</td>\n",
       "    </tr>\n",
       "    <tr>\n",
       "      <th>1</th>\n",
       "      <td>tulpe</td>\n",
       "      <td>unkown</td>\n",
       "      <td>Staude</td>\n",
       "      <td>0</td>\n",
       "      <td>0</td>\n",
       "      <td>0</td>\n",
       "      <td>0</td>\n",
       "      <td>1</td>\n",
       "      <td>1</td>\n",
       "      <td>0</td>\n",
       "      <td>0</td>\n",
       "      <td>0</td>\n",
       "      <td>0</td>\n",
       "      <td>0</td>\n",
       "      <td>0</td>\n",
       "      <td>0</td>\n",
       "      <td>3</td>\n",
       "      <td>0</td>\n",
       "    </tr>\n",
       "  </tbody>\n",
       "</table>\n",
       "</div>"
      ],
      "text/plain": [
       "              name botanischer_name pflanzenart  biene  jan  feb  mrz  apr  \\\n",
       "0  bauernhortensie           unkown      Staude      0    0    0    0    0   \n",
       "1            tulpe           unkown      Staude      0    0    0    0    1   \n",
       "\n",
       "   mai  jun  jul  aug  sep  okt  nov  dez  anzahl  score_biene  \n",
       "0    0    1    1    1    1    1    0    0       3            0  \n",
       "1    1    0    0    0    0    0    0    0       3            0  "
      ]
     },
     "execution_count": 46,
     "metadata": {},
     "output_type": "execute_result"
    }
   ],
   "source": [
    "#neues Dataframe mit allen Spalten aus plants_df zu Usereingabe erstellen.\n",
    "user_plants_df = pd.merge(plants_df, user_df, on=['name'], how='inner')\n",
    "#Spalte mit Score für für Bienen wertvolle Pflanzen.\n",
    "user_plants_df = user_plants_df.assign(score_biene=user_plants_df['biene']*user_plants_df['anzahl'])\n",
    "user_plants_df"
   ]
  },
  {
   "cell_type": "code",
   "execution_count": 47,
   "id": "94c0ec16",
   "metadata": {},
   "outputs": [
    {
     "name": "stdout",
     "output_type": "stream",
     "text": [
      "Anzahl bienenfreundliche Pflanzen:  0\n",
      "Anzahl Pflanzen gesamt:  6\n",
      "Dein Bienenscore ist = 0.0 %.\n"
     ]
    }
   ],
   "source": [
    "#Zeile mit Summe je Spalte hinzufügen oder Summe score_biene berechnen.\n",
    "Total = user_plants_df['score_biene'].sum()/user_df['anzahl'].sum()*100\n",
    "print(\"Anzahl bienenfreundliche Pflanzen: \",user_plants_df['score_biene'].sum())\n",
    "print(\"Anzahl Pflanzen gesamt: \", user_df['anzahl'].sum())\n",
    "print(\"Dein Bienenscore ist =\",Total,\"%.\")"
   ]
  },
  {
   "cell_type": "code",
   "execution_count": 48,
   "id": "127da50e",
   "metadata": {},
   "outputs": [
    {
     "name": "stdout",
     "output_type": "stream",
     "text": [
      "Du solltest mehr bienenfreundliche Pflanzen pflanzen. Zum Beispiel: \n"
     ]
    }
   ],
   "source": [
    "#Feedback zu Bienenscore:\n",
    "if Total > 85:\n",
    "    print(\"Das ist super! Glückwunsch :-)\")\n",
    "else:\n",
    "    print(\"Du solltest mehr bienenfreundliche Pflanzen pflanzen. Zum Beispiel\")"
   ]
  },
  {
   "cell_type": "markdown",
   "id": "dfbbee79",
   "metadata": {},
   "source": [
    "**Anmerkung Jana: Empfehlung in Codezeile oben mit rein**"
   ]
  },
  {
   "cell_type": "code",
   "execution_count": 49,
   "id": "d965cb03",
   "metadata": {},
   "outputs": [
    {
     "name": "stdout",
     "output_type": "stream",
     "text": [
      "42            ballonblume\n",
      "2     winterheckenzwiebel\n",
      "40               rosmarin\n",
      "65            topfdahlien\n",
      "14        echter gamander\n",
      "Name: name, dtype: object\n"
     ]
    }
   ],
   "source": [
    "#Empfehlung, falls Bienenscore <=85%:\n",
    "if Total <= 85:\n",
    "        subset_biene_df = plants_df.loc[plants_df['biene'] == 1]\n",
    "        print(subset_biene_df.name.sample(5))"
   ]
  },
  {
   "cell_type": "markdown",
   "id": "5473ea95",
   "metadata": {},
   "source": [
    "**Hinweis Anna**\n",
    "\n",
    "**Code subset Biene geändert. Es hat alle Bienen, nicht nur Biene = 1 angezeigt.**"
   ]
  },
  {
   "cell_type": "markdown",
   "id": "f90df0b0",
   "metadata": {},
   "source": [
    "## 2.4 Blühzeitscore\n",
    "---\n",
    "\n",
    "Hier wird dargestellt, in welchen Monaten die vorhandenen Pflanzen Blüte tragen und welche davon für Bienen nützlich sind. Fehlen Blüten für Bienen in Monaten außer Januar und Februar wird der User darauf hingewiesen beim nächsten Pflanzenkauf darauf zu achten, bienenfreundliche Pflanzen mit Blüte in diesen Monaten zu kaufen."
   ]
  },
  {
   "cell_type": "code",
   "execution_count": 50,
   "id": "674d7d62",
   "metadata": {},
   "outputs": [
    {
     "data": {
      "image/png": "[encoded data removed]",
      "text/plain": [
       "<Figure size 432x288 with 1 Axes>"
      ]
     },
     "metadata": {
      "needs_background": "light"
     },
     "output_type": "display_data"
    }
   ],
   "source": [
    "#Dataframe über Monat, Blüte und bienenfreundliche Blüte:\n",
    "monat = ['jan', 'feb', 'mrz', 'apr', 'mai', 'jun', 'jul', 'aug', 'sep', 'okt', 'nov', 'dez'] \n",
    "blüte = list(map(lambda monat: user_plants_df[monat].sum(), monat))\n",
    "subset_user_plants_df=user_plants_df.loc[user_plants_df['biene'] == 1]\n",
    "blüte_biene = list(map(lambda monat: subset_user_plants_df[monat].sum(), monat))\n",
    "\n",
    "blüte_anz_monat_df = pd.DataFrame({'monat': monat, 'blüte': blüte, 'blüte_biene': blüte_biene})\n",
    "\n",
    "#Visualisierung der Anzahl blühender Pflanzenarten sowie bienenfreundlicher blühenden Pflanzenarten je Monat\n",
    "ax_blüte = blüte_anz_monat_df.plot.bar(x='monat', rot=0)"
   ]
  },
  {
   "cell_type": "code",
   "execution_count": 51,
   "id": "6aebc0de",
   "metadata": {},
   "outputs": [
    {
     "name": "stdout",
     "output_type": "stream",
     "text": [
      "In den folgenden Monaten blüht keine Pflanze: jan, feb, mrz, apr, mai, jun, jul, aug, sep, okt, nov, dez\n",
      "Du solltest beim nächsten Pflanzenkauf darauf achten Pflanzen zu wählen, die bienenfreundlich sind und in diesen Monaten blühen.\n"
     ]
    }
   ],
   "source": [
    "#Hinweis, in welchen Monaten Blüte für Bienen fehlt. \n",
    "keine_blüte_biene = blüte_anz_monat_df.loc[blüte_anz_monat_df['blüte_biene'] == 0]\n",
    "\n",
    "from functools import reduce\n",
    "monate = reduce(lambda a, b: a + ', ' + b, keine_blüte_biene['monat'].tolist())\n",
    "\n",
    "if monate == 'jan, dez':\n",
    "    print(\"Super!\")\n",
    "else:\n",
    "    print(\"In den folgenden Monaten blüht keine Pflanze:\", monate)\n",
    "    print(\"Du solltest beim nächsten Pflanzenkauf darauf achten Pflanzen zu wählen, die bienenfreundlich sind und in diesen Monaten blühen.\")"
   ]
  },
  {
   "cell_type": "code",
   "execution_count": null,
   "id": "f086dcfb",
   "metadata": {},
   "outputs": [],
   "source": [
    "#Empfehlung, in welchen Monaten noch Blüte fehlt, ggf. welche Pflanzen das ändern könnten. "
   ]
  },
  {
   "cell_type": "code",
   "execution_count": null,
   "id": "0dee7610",
   "metadata": {},
   "outputs": [],
   "source": []
  },
  {
   "cell_type": "code",
   "execution_count": null,
   "id": "95abb385",
   "metadata": {},
   "outputs": [],
   "source": []
  }
 ],
 "metadata": {
  "kernelspec": {
   "display_name": "Python 3 (ipykernel)",
   "language": "python",
   "name": "python3"
  },
  "language_info": {
   "codemirror_mode": {
    "name": "ipython",
    "version": 3
   },
   "file_extension": ".py",
   "mimetype": "text/x-python",
   "name": "python",
   "nbconvert_exporter": "python",
   "pygments_lexer": "ipython3",
   "version": "3.9.12"
  }
 },
 "nbformat": 4,
 "nbformat_minor": 5
}

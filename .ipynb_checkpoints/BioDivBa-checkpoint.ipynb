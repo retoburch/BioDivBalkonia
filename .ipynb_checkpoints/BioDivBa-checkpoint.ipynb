{
 "cells": [
  {
   "cell_type": "markdown",
   "id": "55b1198c",
   "metadata": {},
   "source": [
    "Der erste Code ist eine Möglichkeit Input von den Nutzer_innen zu bekommen"
   ]
  },
  {
   "cell_type": "code",
   "execution_count": null,
<<<<<<< Updated upstream
   "id": "e05812fd",
=======
   "id": "c080cab0",
>>>>>>> Stashed changes
   "metadata": {},
   "outputs": [],
   "source": []
  },
  {
   "cell_type": "code",
   "execution_count": null,
   "id": "0eba0f21",
   "metadata": {},
   "outputs": [],
   "source": [
    "import pandas as pd\n",
    "\n",
    "n = int(input(\"Wie viele Pflanzen haben Sie insgesamt?: \"))\n",
    "pflanze = []\n",
    "pflanze_anzahl = []\n",
    "\n",
    "for i in range(n):\n",
    "   ad = input(\"Name der Pflanze: \")\n",
    "   nm = int(input(\"Anzahl: \"))\n",
    "   pflanze.append(ad)\n",
    "   pflanze_anzahl.append(nm)\n",
    "\n",
    "list_user = {\"Pflanzen\": pflanze, \"Anzahl\": pflanze_anzahl}\n",
    "frame_user = pd.DataFrame(list_user)\n",
    "print(frame_user)\n"
   ]
  },
  {
   "cell_type": "markdown",
   "id": "efd13c75",
   "metadata": {},
   "source": [
    "Dieser Teil ist ein Beispiel um den Simpson Index mit einem DataFrame zu berechnen. Ist noch statisch. Habe ich hier abgeschaut ;): https://gitlab.com/alvarosaurus/blog-notebook/-/blob/main/posts/alpha-diversity/Tiergarten_alpha_diversity.ipynb"
   ]
  },
  {
   "cell_type": "code",
   "execution_count": null,
   "id": "72f9a40d",
   "metadata": {},
   "outputs": [],
   "source": [
    "import pandas as pd\n",
    "\n",
    "n = {\"Pflanzen\" : [\"Rose\", \"Mimose\", \"Lavendel\"], \"Anzahl\" : [10, 2, 5]}\n",
    "user_input = pd.DataFrame(data=n)\n",
    "\n",
    "print(user_input)\n",
    "\n",
    "# Total der Anzahl\n",
    "total_count = user_input.Anzahl.sum()\n",
    "# Anzahl der Pflanzen\n",
    "pflanzen_count = user_input.Pflanzen.count()\n",
    "\n",
    "# Anzahl der einzelnen Pflnazen geteilt durch das Total\n",
    "prop = [Anzahl/total_count for Anzahl in user_input.Anzahl]\n",
    "\n",
    "# Neue Kollonne im DataFrame mit den Ergebnissen von oben\n",
    "user_input[\"prop\"] = prop\n",
    "\n",
    "# quadrierung der proport. Zahl\n",
    "user_input[\"prop2\"] = user_input[\"prop\"]**2\n",
    "\n",
    "# Berechnung des Indexes\n",
    "D = 1 - user_input['prop2'].sum()\n",
    "print(\"Der Simpson's diversity index is {:.4f}\".format(D))"
   ]
  },
  {
   "cell_type": "markdown",
   "id": "e0c7cb20",
   "metadata": {},
   "source": [
    "Simpson’s Diversity Index is a way to measure the diversity of species in a community.\n",
    "\n",
    "Denoted as D, this index is calculated as:\n",
    "\n",
    "D = Σni(ni-1)  /  N(N-1)\n",
    "\n",
    "where:\n",
    "\n",
    "ni: The number of organisms that belong to species i\n",
    "N: The total number of organisms\n",
    "\n",
    "The value for Simpson’s Diversity Index ranges between 0 and 1. The higher the value, the lower the diversity.\n",
    "\n",
    "Since this interpretation is a bit counterintuitive, we often calculate Simpson’s Index of Diversity (sometimes called a Dominance Index), which is calculated as 1 – D. The higher the value for this index, the higher the diversity of species.\n",
    "\n",
    "We can also calculate Simpson’s Reciprocal Index, which is calculated as 1/D. The lowest value for this index is 1 and the highest value is equal to the number of species.\n",
    "\n",
    "For example, if there are 7 different species then the max value for this index would be 7. The higher the value for this index, the greater the diversity of the species.\n",
    "\n",
    "Source: https://www.statology.org/simpsons-diversity-index/"
   ]
  },
  {
   "cell_type": "code",
   "execution_count": 17,
<<<<<<< Updated upstream
   "id": "659f63d3",
=======
   "id": "0cfc0369",
>>>>>>> Stashed changes
   "metadata": {},
   "outputs": [
    {
     "name": "stdout",
     "output_type": "stream",
     "text": [
      "['Rose', 'Mimose']\n",
      "['Topfpflanze']\n",
      "2\n",
      "2\n",
      "['Rose', 'Mimose']\n"
     ]
    }
   ],
   "source": [
    "user_input = [\"Rose\", \"Mimose\", \"Topfpflanze\"]\n",
    "reference = [\"Rose\", \"Mimose\", \"Feilchen\"]\n",
    "\n",
    "# Methode 1: nested for loop\n",
    "score = 0\n",
    "positiv_list = []\n",
    "negativ_list = []\n",
    "for x in user_input:\n",
    "    if x in reference:\n",
    "        positiv_list.append(x)\n",
    "        score += 1\n",
    "for y in user_input:\n",
    "    if y not in reference:\n",
    "        negativ_list.append(y)\n",
    "        \n",
    "print(positiv_list)\n",
    "print(negativ_list)\n",
    "print (score)\n",
    "\n",
    "\n",
    "# Method 2: List Comprehension gibt gleich wieder eine Liste aus. Funktioniert nicht für count\n",
    "result = [x for x in user_input if x in set(reference)]\n",
    "score = 0\n",
    "print(result)\n",
    "\n",
    "# set() Funktion ist scheinbar viel schneller"
   ]
  },
  {
   "cell_type": "code",
   "execution_count": 33,
<<<<<<< Updated upstream
   "id": "fcb62407",
=======
   "id": "b789cfe6",
>>>>>>> Stashed changes
   "metadata": {},
   "outputs": [
    {
     "data": {
      "text/plain": [
       "(2, ['Rose', 'Mimose'])"
      ]
     },
     "execution_count": 33,
     "metadata": {},
     "output_type": "execute_result"
    }
   ],
   "source": [
    "user_input = [\"Rose\", \"Mimose\", \"Topfpflanze\"]\n",
    "\n",
    "def comp_flower(new_input):\n",
    "    reference = [\"Rose\", \"Mimose\", \"Feilchen\"]\n",
    "    positiv_list = []\n",
    "    score = 0\n",
    "    for x in new_input:\n",
    "        if x in reference:\n",
    "            positiv_list.append(x)\n",
    "            score += 1\n",
    "    return score, positiv_list\n",
    "  \n",
    "           \n",
    "comp_flower(user_input)\n",
    "    \n",
    "    "
   ]
  },
  {
   "cell_type": "code",
<<<<<<< Updated upstream
   "execution_count": 44,
   "id": "ae18cfdc",
   "metadata": {},
   "outputs": [
    {
     "name": "stdout",
     "output_type": "stream",
     "text": [
      "['Rose', 'Mimose']\n",
      "['Topfpflanze']\n",
      "2\n"
     ]
    }
   ],
   "source": [
    "user_input = [\"Rose\", \"Mimose\", \"Topfpflanze\"]\n",
    "\n",
    "def comp_flower(new_input):\n",
    "    reference = [\"Rose\", \"Mimose\", \"Feilchen\"]\n",
    "    score = 0\n",
    "    positiv_list = []\n",
    "    negativ_list = []\n",
    "    for x in new_input:\n",
    "        if x in reference:\n",
    "            positiv_list.append(x)\n",
    "            score += 1\n",
    "    for y in new_input:\n",
    "        if y not in reference:\n",
    "            negativ_list.append(y)\n",
    "        \n",
    "    print(positiv_list)\n",
    "    print(negativ_list)\n",
    "    print (score)\n",
    "    \n",
    "comp_flower(user_input)"
=======
   "execution_count": null,
   "id": "6d772715",
   "metadata": {},
   "outputs": [],
   "source": [
    " \n",
    "\n",
    "\n",
    "negativ_list = []\n",
    "for y in new_input:\n",
    "        if y not in reference:\n",
    "            negativ_list.append(y)\n",
    "            return negativ_list"
>>>>>>> Stashed changes
   ]
  }
 ],
 "metadata": {
  "kernelspec": {
   "display_name": "Python 3 (ipykernel)",
   "language": "python",
   "name": "python3"
  },
  "language_info": {
   "codemirror_mode": {
    "name": "ipython",
    "version": 3
   },
   "file_extension": ".py",
   "mimetype": "text/x-python",
   "name": "python",
   "nbconvert_exporter": "python",
   "pygments_lexer": "ipython3",
   "version": "3.9.7"
  }
 },
 "nbformat": 4,
 "nbformat_minor": 5
}

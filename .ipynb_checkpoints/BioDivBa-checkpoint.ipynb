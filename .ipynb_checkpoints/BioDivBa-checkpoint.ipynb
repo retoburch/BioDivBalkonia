{
 "cells": [
  {
   "cell_type": "markdown",
   "id": "55b1198c",
   "metadata": {},
   "source": [
    "Der erste Code ist eine Möglichkeit Input von den Nutzer_innen zu bekommen"
   ]
  },
  {
   "cell_type": "code",
   "execution_count": 41,
   "id": "1ce5dacb",
   "metadata": {},
   "outputs": [],
   "source": [
    "import pandas as pd\n",
    "import pandas_profiling as pp"
   ]
  },
  {
   "cell_type": "code",
   "execution_count": 45,
   "id": "c41ca56c",
   "metadata": {},
   "outputs": [],
   "source": [
    "plants_df = pd.read_csv('/Users/burchr/Documents/GitHub/pruefungsleistung/Import/plants_df.csv',sep=\",\")"
   ]
  },
  {
   "cell_type": "code",
   "execution_count": 48,
   "id": "cdb5bca4",
   "metadata": {},
   "outputs": [
    {
     "data": {
      "text/html": [
       "<div>\n",
       "<style scoped>\n",
       "    .dataframe tbody tr th:only-of-type {\n",
       "        vertical-align: middle;\n",
       "    }\n",
       "\n",
       "    .dataframe tbody tr th {\n",
       "        vertical-align: top;\n",
       "    }\n",
       "\n",
       "    .dataframe thead th {\n",
       "        text-align: right;\n",
       "    }\n",
       "</style>\n",
       "<table border=\"1\" class=\"dataframe\">\n",
       "  <thead>\n",
       "    <tr style=\"text-align: right;\">\n",
       "      <th></th>\n",
       "      <th>name</th>\n",
       "      <th>botanischer_name</th>\n",
       "      <th>pflanzenart</th>\n",
       "      <th>biene</th>\n",
       "      <th>schmetterling</th>\n",
       "      <th>jan</th>\n",
       "      <th>feb</th>\n",
       "      <th>mrz</th>\n",
       "      <th>apr</th>\n",
       "      <th>mai</th>\n",
       "      <th>jun</th>\n",
       "      <th>jul</th>\n",
       "      <th>aug</th>\n",
       "      <th>sep</th>\n",
       "      <th>okt</th>\n",
       "      <th>nov</th>\n",
       "      <th>dez</th>\n",
       "    </tr>\n",
       "  </thead>\n",
       "  <tbody>\n",
       "    <tr>\n",
       "      <th>0</th>\n",
       "      <td>Zitronenmelisse</td>\n",
       "      <td>unkown</td>\n",
       "      <td>Kräuter</td>\n",
       "      <td>1</td>\n",
       "      <td>1</td>\n",
       "      <td>0</td>\n",
       "      <td>0</td>\n",
       "      <td>0</td>\n",
       "      <td>0</td>\n",
       "      <td>0</td>\n",
       "      <td>1</td>\n",
       "      <td>1</td>\n",
       "      <td>1</td>\n",
       "      <td>0</td>\n",
       "      <td>0</td>\n",
       "      <td>0</td>\n",
       "      <td>0</td>\n",
       "    </tr>\n",
       "    <tr>\n",
       "      <th>1</th>\n",
       "      <td>Zierapfel</td>\n",
       "      <td>unkown</td>\n",
       "      <td>Rosengewächs</td>\n",
       "      <td>1</td>\n",
       "      <td>0</td>\n",
       "      <td>0</td>\n",
       "      <td>0</td>\n",
       "      <td>0</td>\n",
       "      <td>1</td>\n",
       "      <td>1</td>\n",
       "      <td>0</td>\n",
       "      <td>0</td>\n",
       "      <td>0</td>\n",
       "      <td>0</td>\n",
       "      <td>0</td>\n",
       "      <td>0</td>\n",
       "      <td>0</td>\n",
       "    </tr>\n",
       "    <tr>\n",
       "      <th>2</th>\n",
       "      <td>Winterheckenzwiebel</td>\n",
       "      <td>unkown</td>\n",
       "      <td>Gemüse</td>\n",
       "      <td>1</td>\n",
       "      <td>1</td>\n",
       "      <td>0</td>\n",
       "      <td>0</td>\n",
       "      <td>0</td>\n",
       "      <td>0</td>\n",
       "      <td>0</td>\n",
       "      <td>1</td>\n",
       "      <td>1</td>\n",
       "      <td>1</td>\n",
       "      <td>0</td>\n",
       "      <td>0</td>\n",
       "      <td>0</td>\n",
       "      <td>0</td>\n",
       "    </tr>\n",
       "    <tr>\n",
       "      <th>3</th>\n",
       "      <td>Winter-Bohnenkraut</td>\n",
       "      <td>unkown</td>\n",
       "      <td>Gemüse</td>\n",
       "      <td>1</td>\n",
       "      <td>1</td>\n",
       "      <td>0</td>\n",
       "      <td>0</td>\n",
       "      <td>0</td>\n",
       "      <td>0</td>\n",
       "      <td>0</td>\n",
       "      <td>1</td>\n",
       "      <td>1</td>\n",
       "      <td>1</td>\n",
       "      <td>1</td>\n",
       "      <td>0</td>\n",
       "      <td>0</td>\n",
       "      <td>0</td>\n",
       "    </tr>\n",
       "    <tr>\n",
       "      <th>4</th>\n",
       "      <td>Wildstrauch Schwarzer Holunder</td>\n",
       "      <td>unkown</td>\n",
       "      <td>Staude</td>\n",
       "      <td>1</td>\n",
       "      <td>1</td>\n",
       "      <td>0</td>\n",
       "      <td>0</td>\n",
       "      <td>0</td>\n",
       "      <td>0</td>\n",
       "      <td>1</td>\n",
       "      <td>1</td>\n",
       "      <td>0</td>\n",
       "      <td>0</td>\n",
       "      <td>0</td>\n",
       "      <td>0</td>\n",
       "      <td>0</td>\n",
       "      <td>0</td>\n",
       "    </tr>\n",
       "  </tbody>\n",
       "</table>\n",
       "</div>"
      ],
      "text/plain": [
       "                             name botanischer_name   pflanzenart  biene  \\\n",
       "0                 Zitronenmelisse           unkown       Kräuter      1   \n",
       "1                       Zierapfel           unkown  Rosengewächs      1   \n",
       "2             Winterheckenzwiebel           unkown        Gemüse      1   \n",
       "3              Winter-Bohnenkraut           unkown        Gemüse      1   \n",
       "4  Wildstrauch Schwarzer Holunder           unkown        Staude      1   \n",
       "\n",
       "   schmetterling  jan  feb  mrz  apr  mai  jun  jul  aug  sep  okt  nov  dez  \n",
       "0              1    0    0    0    0    0    1    1    1    0    0    0    0  \n",
       "1              0    0    0    0    1    1    0    0    0    0    0    0    0  \n",
       "2              1    0    0    0    0    0    1    1    1    0    0    0    0  \n",
       "3              1    0    0    0    0    0    1    1    1    1    0    0    0  \n",
       "4              1    0    0    0    0    1    1    0    0    0    0    0    0  "
      ]
     },
     "execution_count": 48,
     "metadata": {},
     "output_type": "execute_result"
    }
   ],
   "source": [
    "plants_df.head()"
   ]
  },
  {
   "cell_type": "code",
   "execution_count": null,
   "id": "0eba0f21",
   "metadata": {},
   "outputs": [],
   "source": [
    "n = int(input(\"Wie viele Pflanzen haben Sie insgesamt?: \"))\n",
    "pflanze = []\n",
    "pflanze_anzahl = []\n",
    "\n",
    "for i in range(n):\n",
    "   ad = input(\"Name der Pflanze: \")\n",
    "   nm = int(input(\"Anzahl: \"))\n",
    "   pflanze.append(ad)\n",
    "   pflanze_anzahl.append(nm)\n",
    "\n",
    "list_user = {\"Pflanzen\": pflanze, \"Anzahl\": pflanze_anzahl}\n",
    "frame_user = pd.DataFrame(list_user)\n",
    "print(frame_user)\n"
   ]
  },
  {
   "cell_type": "markdown",
   "id": "efd13c75",
   "metadata": {},
   "source": [
    "Dieser Teil ist ein Beispiel um den Simpson Index mit einem DataFrame zu berechnen. Ist noch statisch. Habe ich hier abgeschaut ;): https://gitlab.com/alvarosaurus/blog-notebook/-/blob/main/posts/alpha-diversity/Tiergarten_alpha_diversity.ipynb"
   ]
  },
  {
   "cell_type": "code",
   "execution_count": null,
   "id": "72f9a40d",
   "metadata": {},
   "outputs": [],
   "source": [
    "import pandas as pd\n",
    "\n",
    "n = {\"Pflanzen\" : [\"Rose\", \"Mimose\", \"Lavendel\"], \"Anzahl\" : [10, 2, 5]}\n",
    "user_input = pd.DataFrame(data=n)\n",
    "\n",
    "print(user_input)\n",
    "\n",
    "# Total der Anzahl\n",
    "total_count = user_input.Anzahl.sum()\n",
    "# Anzahl der Pflanzen\n",
    "pflanzen_count = user_input.Pflanzen.count()\n",
    "\n",
    "# Anzahl der einzelnen Pflnazen geteilt durch das Total\n",
    "prop = [Anzahl/total_count for Anzahl in user_input.Anzahl]\n",
    "\n",
    "# Neue Kollonne im DataFrame mit den Ergebnissen von oben\n",
    "user_input[\"prop\"] = prop\n",
    "\n",
    "# quadrierung der proport. Zahl\n",
    "user_input[\"prop2\"] = user_input[\"prop\"]**2\n",
    "\n",
    "# Berechnung des Indexes\n",
    "D = 1 - user_input['prop2'].sum()\n",
    "print(\"Der Simpson's diversity index is {:.4f}\".format(D))"
   ]
  },
  {
   "cell_type": "markdown",
   "id": "e0c7cb20",
   "metadata": {},
   "source": [
    "Simpson’s Diversity Index is a way to measure the diversity of species in a community.\n",
    "\n",
    "Denoted as D, this index is calculated as:\n",
    "\n",
    "D = Σni(ni-1)  /  N(N-1)\n",
    "\n",
    "where:\n",
    "\n",
    "ni: The number of organisms that belong to species i\n",
    "N: The total number of organisms\n",
    "\n",
    "The value for Simpson’s Diversity Index ranges between 0 and 1. The higher the value, the lower the diversity.\n",
    "\n",
    "Since this interpretation is a bit counterintuitive, we often calculate Simpson’s Index of Diversity (sometimes called a Dominance Index), which is calculated as 1 – D. The higher the value for this index, the higher the diversity of species.\n",
    "\n",
    "We can also calculate Simpson’s Reciprocal Index, which is calculated as 1/D. The lowest value for this index is 1 and the highest value is equal to the number of species.\n",
    "\n",
    "For example, if there are 7 different species then the max value for this index would be 7. The higher the value for this index, the greater the diversity of the species.\n",
    "\n",
    "Source: https://www.statology.org/simpsons-diversity-index/"
   ]
  },
  {
   "cell_type": "code",
   "execution_count": 4,
   "id": "fa26c9ad",
   "metadata": {},
   "outputs": [
    {
     "name": "stdout",
     "output_type": "stream",
     "text": [
      "['Rose', 'Mimose']\n",
      "['Topfpflanze']\n",
      "2\n",
      "['Rose', 'Mimose']\n"
     ]
    }
   ],
   "source": [
    "user_input = [\"Rose\", \"Mimose\", \"Topfpflanze\"]\n",
    "reference = [\"Rose\", \"Mimose\", \"Feilchen\"]\n",
    "\n",
    "# Methode 1: nested for loop\n",
    "score = 0\n",
    "positiv_list = []\n",
    "negativ_list = []\n",
    "for x in user_input:\n",
    "    if x in reference:\n",
    "        positiv_list.append(x)\n",
    "        score += 1\n",
    "for y in user_input:\n",
    "    if y not in reference:\n",
    "        negativ_list.append(y)\n",
    "        \n",
    "print(str(positiv_list))\n",
    "print(negativ_list)\n",
    "print (score)\n",
    "\n",
    "\n",
    "# Method 2: List Comprehension gibt gleich wieder eine Liste aus. Funktioniert nicht für count\n",
    "result = [x for x in user_input if x in set(reference)]\n",
    "score = 0\n",
    "print(result)\n",
    "\n",
    "# set() Funktion ist scheinbar viel schneller"
   ]
  },
  {
   "cell_type": "code",
   "execution_count": 53,
   "id": "122d79ca",
   "metadata": {},
   "outputs": [
    {
     "data": {
      "text/plain": [
       "(2, ['Rose', 'Mimose'])"
      ]
     },
     "execution_count": 53,
     "metadata": {},
     "output_type": "execute_result"
    }
   ],
   "source": [
    "user_input = [\"Rose\", \"Mimose\", \"Topfpflanze\"]\n",
    "\n",
    "def comp_flower(new_input):\n",
    "    reference = [\"Rose\", \"Mimose\", \"Feilchen\"]\n",
    "    positiv_list = []\n",
    "    score = 0\n",
    "    for x in new_input:\n",
    "        if x in reference:\n",
    "            positiv_list.append(x)\n",
    "            score += 1\n",
    "    return score, positiv_list\n",
    "  \n",
    "           \n",
    "comp_flower(user_input)\n",
    "    \n",
    "    "
   ]
  },
  {
   "cell_type": "code",
   "execution_count": 44,
   "id": "5499c7aa",
   "metadata": {},
   "outputs": [
    {
     "name": "stdout",
     "output_type": "stream",
     "text": [
      "['Rose', 'Mimose']\n",
      "['Topfpflanze']\n",
      "2\n"
     ]
    }
   ],
   "source": [
    "user_input = [\"Rose\", \"Mimose\", \"Topfpflanze\"]\n",
    "\n",
    "def comp_flower(new_input):\n",
    "    reference = [\"Rose\", \"Mimose\", \"Feilchen\"]\n",
    "    score = 0\n",
    "    positiv_list = []\n",
    "    negativ_list = []\n",
    "    for x in new_input:\n",
    "        if x in reference:\n",
    "            positiv_list.append(x)\n",
    "            score += 1\n",
    "    for y in new_input:\n",
    "        if y not in reference:\n",
    "            negativ_list.append(y)\n",
    "        \n",
    "    print(positiv_list)\n",
    "    print(negativ_list)\n",
    "    print (score)\n",
    "    \n",
    "comp_flower(user_input)"
   ]
  },
  {
   "cell_type": "code",
   "execution_count": 3,
   "id": "6c93049a",
   "metadata": {},
   "outputs": [
    {
     "name": "stdout",
     "output_type": "stream",
     "text": [
      "66.66666666666667\n"
     ]
    }
   ],
   "source": [
    "user_input = [\"Rose\", \"Mimose\", \"Topfpflanze\"]\n",
    "\n",
    "def score_flower(new_input):\n",
    "    reference = [\"Rose\", \"Mimose\", \"Feilchen\"]\n",
    "    points = 0\n",
    "    for x in new_input:\n",
    "        if x in reference:\n",
    "            points += 1\n",
    "    score = 100 / len(user_input) * points\n",
    "    return(score)\n",
    "\n",
    "print(score_flower(user_input))"
   ]
  },
  {
   "cell_type": "code",
   "execution_count": 17,
   "id": "c117c109",
   "metadata": {},
   "outputs": [
    {
     "data": {
      "text/plain": [
       "1.0114042647073518"
      ]
     },
     "execution_count": 17,
     "metadata": {},
     "output_type": "execute_result"
    }
   ],
   "source": [
    "#\"\"\" Given a hash { 'species': count } , returns the SDI >>> sdi({'a': 10, 'b': 20, 'c': 30,})\n",
    "    #1.0114042647073518\"\"\" Code für Dictionary\n",
    "\n",
    "\n",
    "import sys\n",
    "\n",
    "def sdi(data):\n",
    "    \n",
    "    \n",
    "    from math import log as ln\n",
    "    \n",
    "    def p(n, N):\n",
    "        \"\"\" Relative abundance \"\"\"\n",
    "        if n ==  0:\n",
    "            return 0\n",
    "        else:\n",
    "            return (float(n)/N) * ln(float(n)/N)\n",
    "            \n",
    "    N = sum(data.values())\n",
    "    \n",
    "    return -sum(p(n, N) for n in data.values() if n != 0)\n",
    "\n",
    "\n",
    "sdi({'a': 10, 'b': 20, 'c': 30,})"
   ]
  },
  {
   "cell_type": "code",
   "execution_count": 28,
   "id": "a49ca392",
   "metadata": {},
   "outputs": [
    {
     "data": {
      "text/plain": [
       "1.0114042647073518"
      ]
     },
     "execution_count": 28,
     "metadata": {},
     "output_type": "execute_result"
    }
   ],
   "source": [
    "import pandas as pd\n",
    "from math import log as ln\n",
    "\n",
    "\n",
    "p = {\"Pflanzen\" : [\"Rose\", \"Mimose\", \"Lavendel\"], \"Anzahl\" : [10, 20, 30]}\n",
    "user_input = pd.DataFrame(data=p)\n",
    "\n",
    "def sdi(user_input):\n",
    "    def p(n, N):\n",
    "        if n ==  0:\n",
    "            return 0\n",
    "        else:\n",
    "            return (float(n)/N) * ln(float(n)/N)\n",
    "            \n",
    "    N = user_input.Anzahl.sum()\n",
    "    \n",
    "    return -sum(p(n, N) for n in user_input.Anzahl if n != 0)\n",
    "\n",
    "\n",
    "sdi(user_input)"
   ]
  },
  {
   "cell_type": "code",
   "execution_count": 40,
   "id": "d3fa8040",
   "metadata": {},
   "outputs": [
    {
     "name": "stdout",
     "output_type": "stream",
     "text": [
      "['Name', 'Zitronenmelisse', 'Sonnenblume', 'Safran', 'Oregano', 'Birne', 'Haselnussbaum', 'Brombeere', 'Himbeere', 'Rose (ungefüllt)', 'Rosmarin', 'Ballonblume', 'Lavendel', 'Wald-Erdbeere', 'Krokus', 'Schneeglöckchen', 'Koriander', 'Salbei', 'Kornblume', 'Forsythien', 'Geranien', 'Lebensbaum', 'Magnolie', 'Bauernhortensie', 'Tulpen', 'Kriech. Leinkraut']\n"
     ]
    }
   ],
   "source": [
    "import csv\n",
    "\n",
    "with open('/Users/burchr/Documents/GitHub/pruefungsleistung/Import/DatenBalkonien_verkürzt.csv', 'r') as f:\n",
    "    reader = csv.reader(f)\n",
    "    data = list(reader)\n",
    "    pflanzen = sum(data, [])\n",
    "\n",
    "print(pflanzen)"
   ]
  }
 ],
 "metadata": {
  "kernelspec": {
   "display_name": "Python 3 (ipykernel)",
   "language": "python",
   "name": "python3"
  },
  "language_info": {
   "codemirror_mode": {
    "name": "ipython",
    "version": 3
   },
   "file_extension": ".py",
   "mimetype": "text/x-python",
   "name": "python",
   "nbconvert_exporter": "python",
   "pygments_lexer": "ipython3",
   "version": "3.9.7"
  }
 },
 "nbformat": 4,
 "nbformat_minor": 5
}

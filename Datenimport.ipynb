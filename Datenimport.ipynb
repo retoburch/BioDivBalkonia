{
 "cells": [
  {
   "cell_type": "markdown",
   "id": "99ae09a3",
   "metadata": {},
   "source": [
    "**Datenimport**\n",
    "------------------------\n",
    "Hier werden die Daten für den Abgleich der Usereingabe importiert"
   ]
  },
  {
   "cell_type": "code",
   "execution_count": 1,
   "id": "f38dd7c7",
   "metadata": {},
   "outputs": [],
   "source": [
    "import pandas as pd"
   ]
  },
  {
   "cell_type": "code",
   "execution_count": 29,
   "id": "de919cfe",
   "metadata": {},
   "outputs": [],
   "source": [
    "PlantData = pd.read_csv('/Users/annamayer/Desktop/DatenBalkonien.csv',sep=\";\")"
   ]
  },
  {
   "cell_type": "code",
   "execution_count": 30,
   "id": "9b657a6e",
   "metadata": {},
   "outputs": [
    {
     "name": "stdout",
     "output_type": "stream",
     "text": [
      "                  Unnamed: 0         Unnamed: 1 Insekten     Unnamed: 3  \\\n",
      "0                       Name   botanischer Name    Biene  Schmetterling   \n",
      "1            Zitronenmelisse                NaN        1              1   \n",
      "2                  Zierapfel                NaN        1            NaN   \n",
      "3        Winterheckenzwiebel                NaN        1              1   \n",
      "4         Winter-Bohnenkraut                NaN        1              1   \n",
      "..                       ...                ...      ...            ...   \n",
      "114  Spanischer Mauerpfeffer   Sedum hispanicum        1              1   \n",
      "115                Fetthenne        Sedum i. S.        1            NaN   \n",
      "116                Tripmadam     Sedum reflexum        1              1   \n",
      "117      Milder Mauerpfeffer  Sedum sexangulare        1              1   \n",
      "118                  Thymian       Thymus i. S.        1              1   \n",
      "\n",
      "    Unnamed: 4 Unnamed: 5       Unnamed: 6 Resilienz / Standort Unnamed: 8  \\\n",
      "0        Vogel     Hummel  (Schweb-)fliege           Winterhart      Sonne   \n",
      "1          NaN        NaN              NaN                    1          1   \n",
      "2            1        NaN              NaN                    1          1   \n",
      "3          NaN        NaN              NaN                    1          1   \n",
      "4          NaN        NaN              NaN                    1          1   \n",
      "..         ...        ...              ...                  ...        ...   \n",
      "114        NaN          1              NaN                  NaN          1   \n",
      "115        NaN          1              NaN                  NaN          1   \n",
      "116        NaN          1              NaN                  NaN          1   \n",
      "117        NaN          1              NaN                  NaN          1   \n",
      "118        NaN          1              NaN                  NaN          1   \n",
      "\n",
      "       Unnamed: 9  ... Unnamed: 19 Unnamed: 20 Unnamed: 21 Unnamed: 22  \\\n",
      "0    Halbschatten  ...           J           A           S           O   \n",
      "1               1  ...           1           1         NaN         NaN   \n",
      "2             NaN  ...         NaN         NaN         NaN         NaN   \n",
      "3             NaN  ...           1           1         NaN         NaN   \n",
      "4             NaN  ...           1           1           1         NaN   \n",
      "..            ...  ...         ...         ...         ...         ...   \n",
      "114             1  ...           1           1         NaN         NaN   \n",
      "115           NaN  ...           1           1           1           1   \n",
      "116             1  ...           1           1         NaN         NaN   \n",
      "117             1  ...           1           1         NaN         NaN   \n",
      "118           NaN  ...           1           1           1         NaN   \n",
      "\n",
      "    Unnamed: 23 Unnamed: 24     Quelle Unnamed: 26 Unnamed: 27 Unnamed: 28  \n",
      "0             N           D        NaN  Katergorie         NaN         NaN  \n",
      "1           NaN         NaN  Biogarten     Kräuter         NaN         NaN  \n",
      "2           NaN         NaN  Biogarten         NaN         NaN         NaN  \n",
      "3           NaN         NaN  Biogarten         NaN         NaN         NaN  \n",
      "4           NaN         NaN  Biogarten         NaN         NaN         NaN  \n",
      "..          ...         ...        ...         ...         ...         ...  \n",
      "114         NaN         NaN        NBL     Kräuter         NaN         NaN  \n",
      "115         NaN         NaN        NBL     Kräuter         NaN         NaN  \n",
      "116         NaN         NaN        NBL     Kräuter         NaN         NaN  \n",
      "117         NaN         NaN        NBL     Kräuter         NaN         NaN  \n",
      "118         NaN         NaN        NBL     Kräuter         NaN         NaN  \n",
      "\n",
      "[119 rows x 29 columns]\n"
     ]
    }
   ],
   "source": [
    "print(PlantData)"
   ]
  },
  {
   "cell_type": "code",
   "execution_count": null,
   "id": "1f4dd848",
   "metadata": {},
   "outputs": [],
   "source": []
  }
 ],
 "metadata": {
  "kernelspec": {
   "display_name": "Python 3 (ipykernel)",
   "language": "python",
   "name": "python3"
  },
  "language_info": {
   "codemirror_mode": {
    "name": "ipython",
    "version": 3
   },
   "file_extension": ".py",
   "mimetype": "text/x-python",
   "name": "python",
   "nbconvert_exporter": "python",
   "pygments_lexer": "ipython3",
   "version": "3.10.4"
  }
 },
 "nbformat": 4,
 "nbformat_minor": 5
}
